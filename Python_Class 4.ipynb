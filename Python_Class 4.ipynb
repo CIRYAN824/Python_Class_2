{
 "cells": [
  {
   "cell_type": "code",
   "execution_count": 3,
   "id": "21f7e236",
   "metadata": {},
   "outputs": [
    {
     "name": "stdout",
     "output_type": "stream",
     "text": [
      "걸어가라\n"
     ]
    }
   ],
   "source": [
    "money = False\n",
    "\n",
    "if money:\n",
    "    print(\"택시를 타고 가라\")\n",
    "    \n",
    "else:\n",
    "    print(\"걸어가라\")"
   ]
  },
  {
   "cell_type": "code",
   "execution_count": 5,
   "id": "0a23a14a",
   "metadata": {},
   "outputs": [
    {
     "name": "stdout",
     "output_type": "stream",
     "text": [
      "x is smaller than y\n"
     ]
    }
   ],
   "source": [
    "x = 3\n",
    "y = 4\n",
    "\n",
    "if x<y:\n",
    "    print('x is smaller than y')\n",
    "\n",
    "else:\n",
    "    pass"
   ]
  },
  {
   "cell_type": "code",
   "execution_count": 6,
   "id": "9abb2918",
   "metadata": {},
   "outputs": [
    {
     "data": {
      "text/plain": [
       "True"
      ]
     },
     "execution_count": 6,
     "metadata": {},
     "output_type": "execute_result"
    }
   ],
   "source": [
    "bool(0 or 1)"
   ]
  },
  {
   "cell_type": "code",
   "execution_count": 7,
   "id": "632dffe4",
   "metadata": {},
   "outputs": [
    {
     "data": {
      "text/plain": [
       "True"
      ]
     },
     "execution_count": 7,
     "metadata": {},
     "output_type": "execute_result"
    }
   ],
   "source": [
    "bool(not 0)"
   ]
  },
  {
   "cell_type": "code",
   "execution_count": 8,
   "id": "9979f166",
   "metadata": {},
   "outputs": [
    {
     "data": {
      "text/plain": [
       "False"
      ]
     },
     "execution_count": 8,
     "metadata": {},
     "output_type": "execute_result"
    }
   ],
   "source": [
    "bool(not 1)"
   ]
  },
  {
   "cell_type": "code",
   "execution_count": 9,
   "id": "55d6cfa0",
   "metadata": {},
   "outputs": [
    {
     "data": {
      "text/plain": [
       "True"
      ]
     },
     "execution_count": 9,
     "metadata": {},
     "output_type": "execute_result"
    }
   ],
   "source": [
    "1 in [1, 2, 3]"
   ]
  },
  {
   "cell_type": "code",
   "execution_count": 10,
   "id": "086b95b2",
   "metadata": {},
   "outputs": [
    {
     "data": {
      "text/plain": [
       "False"
      ]
     },
     "execution_count": 10,
     "metadata": {},
     "output_type": "execute_result"
    }
   ],
   "source": [
    "0 in [1, 2, 3]"
   ]
  },
  {
   "cell_type": "code",
   "execution_count": 11,
   "id": "239bd250",
   "metadata": {},
   "outputs": [
    {
     "data": {
      "text/plain": [
       "True"
      ]
     },
     "execution_count": 11,
     "metadata": {},
     "output_type": "execute_result"
    }
   ],
   "source": [
    "0 not in [1, 2, 3]"
   ]
  },
  {
   "cell_type": "code",
   "execution_count": 12,
   "id": "6457cb98",
   "metadata": {},
   "outputs": [
    {
     "name": "stdout",
     "output_type": "stream",
     "text": [
      "I have nothing...\n"
     ]
    }
   ],
   "source": [
    "pocket = ['cellphone']\n",
    "if 'money' in pocket:\n",
    "    print('I have money in the pocket')\n",
    "elif 'paper' in pocket:\n",
    "    print('I have paper in the pocket')\n",
    "else:\n",
    "    print('I have nothing...')"
   ]
  },
  {
   "cell_type": "code",
   "execution_count": 17,
   "id": "02da90b5",
   "metadata": {},
   "outputs": [
    {
     "name": "stdout",
     "output_type": "stream",
     "text": [
      "result is : success\n"
     ]
    }
   ],
   "source": [
    "score = 100\n",
    "\n",
    "if score>60:\n",
    "    message = 'success'\n",
    "else:\n",
    "    message = 'fail'\n",
    "    \n",
    "print(f'result is : {message}')"
   ]
  },
  {
   "cell_type": "code",
   "execution_count": null,
   "id": "dc56d1a1",
   "metadata": {},
   "outputs": [],
   "source": [
    "treeHit = 0\n",
    "while treeHit < 10:\n",
    "    treeHit+=1\n",
    "    print(f\"나무를 {treeHit}번 찍었습니다.\")\n",
    "    if treeHit == 0:\n",
    "        print(\"나무 넘어갑니다\")"
   ]
  },
  {
   "cell_type": "code",
   "execution_count": 30,
   "id": "d46075c6",
   "metadata": {},
   "outputs": [
    {
     "name": "stdout",
     "output_type": "stream",
     "text": [
      "1, \n",
      "2, \n",
      "4, \n",
      "5, \n",
      "7, \n",
      "8, \n",
      "10, \n"
     ]
    }
   ],
   "source": [
    "numlist = 0\n",
    "while numlist < 10:\n",
    "    numlist+=1\n",
    "    if numlist %3 == 1:\n",
    "        print(f\"{numlist}, \")\n",
    "    if numlist %3 == 2:\n",
    "        print(f\"{numlist}, \")"
   ]
  },
  {
   "cell_type": "code",
   "execution_count": 31,
   "id": "09fbcc63",
   "metadata": {},
   "outputs": [
    {
     "name": "stdout",
     "output_type": "stream",
     "text": [
      "1,\n",
      "2,\n",
      "4,\n",
      "5,\n",
      "7,\n",
      "8,\n",
      "10,\n"
     ]
    }
   ],
   "source": [
    "numlist = 0\n",
    "while numlist < 10:\n",
    "    numlist+=1\n",
    "    if numlist %3 == 0:\n",
    "        pass\n",
    "    else:\n",
    "        print(f\"{numlist},\")"
   ]
  },
  {
   "cell_type": "code",
   "execution_count": 33,
   "id": "39d76c9c",
   "metadata": {},
   "outputs": [
    {
     "name": "stdout",
     "output_type": "stream",
     "text": [
      "남은 커피는 9 잔 입니다\n",
      "남은 커피는 8 잔 입니다\n",
      "남은 커피는 7 잔 입니다\n",
      "남은 커피는 6 잔 입니다\n",
      "남은 커피는 5 잔 입니다\n",
      "남은 커피는 4 잔 입니다\n",
      "남은 커피는 3 잔 입니다\n",
      "남은 커피는 2 잔 입니다\n",
      "남은 커피는 1 잔 입니다\n",
      "남은 커피는 0 잔 입니다\n",
      "이제 커피 없어요\n"
     ]
    }
   ],
   "source": [
    "coffee = 10\n",
    "money = 300\n",
    "while money:\n",
    "    coffee -= 1\n",
    "    print(\"남은 커피는 %s 잔 입니다\" %coffee)\n",
    "    if coffee == 0:\n",
    "        print(\"이제 커피 없어요\")\n",
    "        break"
   ]
  },
  {
   "cell_type": "code",
   "execution_count": 37,
   "id": "8908dc18",
   "metadata": {},
   "outputs": [
    {
     "name": "stdout",
     "output_type": "stream",
     "text": [
      "*\n",
      "**\n",
      "***\n",
      "****\n",
      "*****\n"
     ]
    }
   ],
   "source": [
    "star = 0\n",
    "#starlimit = 1000\n",
    "\n",
    "while True:\n",
    "    star += 1\n",
    "    print(star * \"*\")\n",
    "    if star == 5:\n",
    "        break"
   ]
  },
  {
   "cell_type": "code",
   "execution_count": 38,
   "id": "49863350",
   "metadata": {},
   "outputs": [
    {
     "name": "stdout",
     "output_type": "stream",
     "text": [
      "(1, 2)\n",
      "(3, 4)\n",
      "(5, 6)\n"
     ]
    }
   ],
   "source": [
    "a = [(1, 2), (3, 4), (5, 6)]\n",
    "for num_tuple in a:\n",
    "    print(num_tuple)"
   ]
  },
  {
   "cell_type": "code",
   "execution_count": 40,
   "id": "0a369a7b",
   "metadata": {},
   "outputs": [
    {
     "name": "stdout",
     "output_type": "stream",
     "text": [
      "1 2\n",
      "3 4\n",
      "5 6\n"
     ]
    }
   ],
   "source": [
    "a = [(1, 2), (3, 4), (5, 6)]\n",
    "for (first, last) in a:\n",
    "    print(first, last)"
   ]
  },
  {
   "cell_type": "code",
   "execution_count": 41,
   "id": "9fae15d5",
   "metadata": {},
   "outputs": [],
   "source": [
    "scores = [90, 25, 67, 45, 80]"
   ]
  },
  {
   "cell_type": "code",
   "execution_count": 42,
   "id": "214ecd0f",
   "metadata": {},
   "outputs": [
    {
     "name": "stdout",
     "output_type": "stream",
     "text": [
      "0 90\n",
      "1 25\n",
      "2 67\n",
      "3 45\n",
      "4 80\n"
     ]
    }
   ],
   "source": [
    "for (index, score) in enumerate(scores):\n",
    "    print(index, score)"
   ]
  },
  {
   "cell_type": "code",
   "execution_count": 56,
   "id": "a40a5032",
   "metadata": {},
   "outputs": [
    {
     "name": "stdout",
     "output_type": "stream",
     "text": [
      "Student 0, you passed the test by 90 points\n",
      "Student 1, you failed the test by 25 points\n",
      "Student 2, you passed the test by 67 points\n",
      "Student 3, you failed the test by 45 points\n",
      "Student 4, you passed the test by 80 points\n"
     ]
    }
   ],
   "source": [
    "scores = [90, 25, 67, 45, 80]\n",
    "\n",
    "for (index, score) in enumerate(scores): \n",
    "    if score > 60:\n",
    "        print(\"Student %s, you passed the test by %s points\" %(index, score))\n",
    "    else:\n",
    "        print(\"Student %s, you failed the test by %s points\" %(index, score))\n"
   ]
  },
  {
   "cell_type": "code",
   "execution_count": 57,
   "id": "50ad44e4",
   "metadata": {},
   "outputs": [
    {
     "name": "stdout",
     "output_type": "stream",
     "text": [
      "1\n",
      "2\n",
      "3\n",
      "4\n"
     ]
    }
   ],
   "source": [
    "for i in range(1, 5):\n",
    "    print(i)"
   ]
  },
  {
   "cell_type": "code",
   "execution_count": 59,
   "id": "7e2acee9",
   "metadata": {},
   "outputs": [
    {
     "name": "stdout",
     "output_type": "stream",
     "text": [
      "1\n",
      "2\n",
      "3\n",
      "4\n",
      "5\n",
      "6\n",
      "7\n",
      "8\n",
      "9\n",
      "10\n",
      "11\n",
      "12\n",
      "13\n",
      "14\n",
      "15\n",
      "16\n",
      "17\n",
      "18\n",
      "19\n",
      "20\n",
      "21\n",
      "22\n",
      "23\n",
      "24\n",
      "25\n",
      "26\n",
      "27\n",
      "28\n",
      "29\n",
      "30\n",
      "31\n",
      "32\n",
      "33\n",
      "34\n",
      "35\n",
      "36\n",
      "37\n",
      "38\n",
      "39\n",
      "40\n",
      "41\n",
      "42\n",
      "43\n",
      "44\n",
      "45\n",
      "46\n",
      "47\n",
      "48\n",
      "49\n",
      "50\n",
      "51\n",
      "52\n",
      "53\n",
      "54\n",
      "55\n",
      "56\n",
      "57\n",
      "58\n",
      "59\n",
      "60\n",
      "61\n",
      "62\n",
      "63\n",
      "64\n",
      "65\n",
      "66\n",
      "67\n",
      "68\n",
      "69\n",
      "70\n",
      "71\n",
      "72\n",
      "73\n",
      "74\n",
      "75\n",
      "76\n",
      "77\n",
      "78\n",
      "79\n",
      "80\n",
      "81\n",
      "82\n",
      "83\n",
      "84\n",
      "85\n",
      "86\n",
      "87\n",
      "88\n",
      "89\n",
      "90\n",
      "91\n",
      "92\n",
      "93\n",
      "94\n",
      "95\n",
      "96\n",
      "97\n",
      "98\n",
      "99\n",
      "100\n"
     ]
    }
   ],
   "source": [
    "for i in range(1, 101):\n",
    "    print(i)"
   ]
  },
  {
   "cell_type": "code",
   "execution_count": 63,
   "id": "76c0386a",
   "metadata": {},
   "outputs": [],
   "source": [
    "def add(a, b):\n",
    "    return a+b"
   ]
  },
  {
   "cell_type": "code",
   "execution_count": 64,
   "id": "2c5b6273",
   "metadata": {},
   "outputs": [
    {
     "data": {
      "text/plain": [
       "7"
      ]
     },
     "execution_count": 64,
     "metadata": {},
     "output_type": "execute_result"
    }
   ],
   "source": [
    "add(3, 4)"
   ]
  },
  {
   "cell_type": "code",
   "execution_count": null,
   "id": "ddb640c5",
   "metadata": {},
   "outputs": [],
   "source": []
  }
 ],
 "metadata": {
  "kernelspec": {
   "display_name": "Python 3 (ipykernel)",
   "language": "python",
   "name": "python3"
  },
  "language_info": {
   "codemirror_mode": {
    "name": "ipython",
    "version": 3
   },
   "file_extension": ".py",
   "mimetype": "text/x-python",
   "name": "python",
   "nbconvert_exporter": "python",
   "pygments_lexer": "ipython3",
   "version": "3.11.2"
  }
 },
 "nbformat": 4,
 "nbformat_minor": 5
}
