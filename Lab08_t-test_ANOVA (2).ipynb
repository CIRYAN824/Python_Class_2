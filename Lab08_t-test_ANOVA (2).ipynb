{
 "cells": [
  {
   "cell_type": "code",
   "execution_count": 1,
   "id": "6c953f94",
   "metadata": {},
   "outputs": [],
   "source": [
    "from sklearn.datasets import load_iris\n",
    "import pandas as pd\n",
    "import numpy as np\n",
    "import matplotlib.pyplot as plt\n",
    "import seaborn as sns"
   ]
  },
  {
   "cell_type": "code",
   "execution_count": 2,
   "id": "952a9f65",
   "metadata": {},
   "outputs": [],
   "source": [
    "iris = load_iris()"
   ]
  },
  {
   "cell_type": "code",
   "execution_count": 3,
   "id": "a35814cc",
   "metadata": {},
   "outputs": [],
   "source": [
    "features = iris['data']\n",
    "feature_names = iris['feature_names']\n",
    "label = iris['target']"
   ]
  },
  {
   "cell_type": "code",
   "execution_count": 4,
   "id": "9f45c879",
   "metadata": {},
   "outputs": [],
   "source": [
    "df = pd.DataFrame(features, columns = feature_names)\n",
    "df['target'] = label"
   ]
  },
  {
   "cell_type": "code",
   "execution_count": 5,
   "id": "43ae563c",
   "metadata": {},
   "outputs": [],
   "source": [
    "seto = df[df['target'] == 0]\n",
    "versi = df[df['target'] == 1]\n",
    "virgi = df[df['target'] == 2]"
   ]
  },
  {
   "cell_type": "markdown",
   "id": "ea7ea661",
   "metadata": {},
   "source": [
    "## 1 T-test\n",
    "\n",
    "Setosa, Versicolor의 sepal length의 차이가 유의한가?"
   ]
  },
  {
   "cell_type": "code",
   "execution_count": 8,
   "id": "423b2cd9",
   "metadata": {},
   "outputs": [
    {
     "data": {
      "text/html": [
       "<div>\n",
       "<style scoped>\n",
       "    .dataframe tbody tr th:only-of-type {\n",
       "        vertical-align: middle;\n",
       "    }\n",
       "\n",
       "    .dataframe tbody tr th {\n",
       "        vertical-align: top;\n",
       "    }\n",
       "\n",
       "    .dataframe thead th {\n",
       "        text-align: right;\n",
       "    }\n",
       "</style>\n",
       "<table border=\"1\" class=\"dataframe\">\n",
       "  <thead>\n",
       "    <tr style=\"text-align: right;\">\n",
       "      <th></th>\n",
       "      <th>sepal length (cm)</th>\n",
       "      <th>sepal width (cm)</th>\n",
       "      <th>petal length (cm)</th>\n",
       "      <th>petal width (cm)</th>\n",
       "      <th>target</th>\n",
       "    </tr>\n",
       "  </thead>\n",
       "  <tbody>\n",
       "    <tr>\n",
       "      <th>0</th>\n",
       "      <td>5.1</td>\n",
       "      <td>3.5</td>\n",
       "      <td>1.4</td>\n",
       "      <td>0.2</td>\n",
       "      <td>0</td>\n",
       "    </tr>\n",
       "    <tr>\n",
       "      <th>1</th>\n",
       "      <td>4.9</td>\n",
       "      <td>3.0</td>\n",
       "      <td>1.4</td>\n",
       "      <td>0.2</td>\n",
       "      <td>0</td>\n",
       "    </tr>\n",
       "    <tr>\n",
       "      <th>2</th>\n",
       "      <td>4.7</td>\n",
       "      <td>3.2</td>\n",
       "      <td>1.3</td>\n",
       "      <td>0.2</td>\n",
       "      <td>0</td>\n",
       "    </tr>\n",
       "  </tbody>\n",
       "</table>\n",
       "</div>"
      ],
      "text/plain": [
       "   sepal length (cm)  sepal width (cm)  petal length (cm)  petal width (cm)  \\\n",
       "0                5.1               3.5                1.4               0.2   \n",
       "1                4.9               3.0                1.4               0.2   \n",
       "2                4.7               3.2                1.3               0.2   \n",
       "\n",
       "   target  \n",
       "0       0  \n",
       "1       0  \n",
       "2       0  "
      ]
     },
     "execution_count": 8,
     "metadata": {},
     "output_type": "execute_result"
    }
   ],
   "source": [
    "seto.head(3)"
   ]
  },
  {
   "cell_type": "code",
   "execution_count": 9,
   "id": "8e7727bb",
   "metadata": {},
   "outputs": [],
   "source": [
    "seto_sepal_length = seto['sepal length (cm)']"
   ]
  },
  {
   "cell_type": "code",
   "execution_count": 11,
   "id": "318816a7",
   "metadata": {},
   "outputs": [],
   "source": [
    "versi_sepal_length = versi['sepal length (cm)']"
   ]
  },
  {
   "cell_type": "markdown",
   "id": "2019449f",
   "metadata": {},
   "source": [
    "## 1-1 Data exploring"
   ]
  },
  {
   "cell_type": "code",
   "execution_count": 13,
   "id": "761d549d",
   "metadata": {},
   "outputs": [
    {
     "data": {
      "image/png": "[encoded data removed]",
      "text/plain": [
       "<Figure size 432x288 with 1 Axes>"
      ]
     },
     "metadata": {
      "needs_background": "light"
     },
     "output_type": "display_data"
    }
   ],
   "source": [
    "plt.boxplot([seto_sepal_length, versi_sepal_length])\n",
    "plt.xticks([1,2], ['setosa_sepal_length', 'versicolor_sepal_length'])\n",
    "plt.show()"
   ]
  },
  {
   "cell_type": "markdown",
   "id": "1e45166b",
   "metadata": {},
   "source": [
    "## 1-2 Normality test"
   ]
  },
  {
   "cell_type": "code",
   "execution_count": 14,
   "id": "e8e5dce8",
   "metadata": {},
   "outputs": [],
   "source": [
    "from scipy import stats"
   ]
  },
  {
   "cell_type": "code",
   "execution_count": 15,
   "id": "933dd4cb",
   "metadata": {},
   "outputs": [],
   "source": [
    "normal_seto = stats.shapiro(seto_sepal_length)\n",
    "normal_versi = stats.shapiro(versi_sepal_length)"
   ]
  },
  {
   "cell_type": "code",
   "execution_count": 17,
   "id": "0cfdcae2",
   "metadata": {},
   "outputs": [
    {
     "name": "stdout",
     "output_type": "stream",
     "text": [
      "ShapiroResult(statistic=0.9776982069015503, pvalue=0.4595010578632355)\n",
      "ShapiroResult(statistic=0.9778357148170471, pvalue=0.4647378921508789)\n"
     ]
    }
   ],
   "source": [
    "print(normal_seto)\n",
    "print(normal_versi)"
   ]
  },
  {
   "cell_type": "markdown",
   "id": "8dc899f9",
   "metadata": {},
   "source": [
    "- normality test의 H0은? 표본이 normal distribution을 따른다!\n",
    "- p-value가 0.05보다 크기 때문에 H0을 reject 할 수 없다!\n",
    "- 따라서, setosa의 sepal length와 versicolor의 sepal length는 normal distribution을 따른다."
   ]
  },
  {
   "cell_type": "markdown",
   "id": "bef4e671",
   "metadata": {},
   "source": [
    "## 1-3 homoegeneity of variance test"
   ]
  },
  {
   "cell_type": "markdown",
   "id": "5e2701b3",
   "metadata": {},
   "source": [
    "H0 : 두 집단의 variance가 같다. "
   ]
  },
  {
   "cell_type": "code",
   "execution_count": 18,
   "id": "d7cd8efa",
   "metadata": {},
   "outputs": [
    {
     "data": {
      "text/plain": [
       "LeveneResult(statistic=8.172720533728683, pvalue=0.005195521631017525)"
      ]
     },
     "execution_count": 18,
     "metadata": {},
     "output_type": "execute_result"
    }
   ],
   "source": [
    "stats.levene(seto_sepal_length, versi_sepal_length)"
   ]
  },
  {
   "cell_type": "markdown",
   "id": "7f96e1e0",
   "metadata": {},
   "source": [
    "p-value가 0.05보다 작기 때문에 H0을 reject 한다. 즉, 두 집단의 variance는 다르다!"
   ]
  },
  {
   "cell_type": "markdown",
   "id": "1858d148",
   "metadata": {},
   "source": [
    "## 1-4 t-test"
   ]
  },
  {
   "cell_type": "code",
   "execution_count": 19,
   "id": "c54f9ab5",
   "metadata": {},
   "outputs": [
    {
     "data": {
      "text/plain": [
       "Ttest_indResult(statistic=-10.52098626754911, pvalue=3.746742613983842e-17)"
      ]
     },
     "execution_count": 19,
     "metadata": {},
     "output_type": "execute_result"
    }
   ],
   "source": [
    "stats.ttest_ind(seto_sepal_length, versi_sepal_length, equal_var=False)"
   ]
  },
  {
   "cell_type": "markdown",
   "id": "9382b0f8",
   "metadata": {},
   "source": [
    "p-value가 0.05보다 작기 때문에 H0 (두 집단의 평균이 같다) 를 reject 한다. 즉, 두 집단의 평균은 통계적으로 유의하게 다르다!"
   ]
  },
  {
   "cell_type": "markdown",
   "id": "105629f5",
   "metadata": {},
   "source": [
    "# 02 ANOVA"
   ]
  },
  {
   "cell_type": "markdown",
   "id": "b2035ca2",
   "metadata": {},
   "source": [
    "### (1) 방법 1"
   ]
  },
  {
   "cell_type": "code",
   "execution_count": 20,
   "id": "78fda753",
   "metadata": {},
   "outputs": [],
   "source": [
    "virgi_sepal_length = virgi['sepal length (cm)']"
   ]
  },
  {
   "cell_type": "code",
   "execution_count": 21,
   "id": "71ad672b",
   "metadata": {},
   "outputs": [
    {
     "data": {
      "image/png": "[encoded data removed]",
      "text/plain": [
       "<Figure size 432x288 with 1 Axes>"
      ]
     },
     "metadata": {
      "needs_background": "light"
     },
     "output_type": "display_data"
    }
   ],
   "source": [
    "plt.boxplot([seto_sepal_length, versi_sepal_length, virgi_sepal_length])\n",
    "plt.xticks([1,2,3],\n",
    "           ['setosa_sepal_length',\n",
    "            'versicolor_sepal_length',\n",
    "            'virginica_sepal_length'])\n",
    "plt.show()"
   ]
  },
  {
   "cell_type": "code",
   "execution_count": 23,
   "id": "7dc4faa6",
   "metadata": {},
   "outputs": [
    {
     "data": {
      "text/html": [
       "<div>\n",
       "<style scoped>\n",
       "    .dataframe tbody tr th:only-of-type {\n",
       "        vertical-align: middle;\n",
       "    }\n",
       "\n",
       "    .dataframe tbody tr th {\n",
       "        vertical-align: top;\n",
       "    }\n",
       "\n",
       "    .dataframe thead th {\n",
       "        text-align: right;\n",
       "    }\n",
       "</style>\n",
       "<table border=\"1\" class=\"dataframe\">\n",
       "  <thead>\n",
       "    <tr style=\"text-align: right;\">\n",
       "      <th></th>\n",
       "      <th>sepal length (cm)</th>\n",
       "      <th>sepal width (cm)</th>\n",
       "      <th>petal length (cm)</th>\n",
       "      <th>petal width (cm)</th>\n",
       "      <th>target</th>\n",
       "    </tr>\n",
       "  </thead>\n",
       "  <tbody>\n",
       "    <tr>\n",
       "      <th>0</th>\n",
       "      <td>5.1</td>\n",
       "      <td>3.5</td>\n",
       "      <td>1.4</td>\n",
       "      <td>0.2</td>\n",
       "      <td>0</td>\n",
       "    </tr>\n",
       "    <tr>\n",
       "      <th>1</th>\n",
       "      <td>4.9</td>\n",
       "      <td>3.0</td>\n",
       "      <td>1.4</td>\n",
       "      <td>0.2</td>\n",
       "      <td>0</td>\n",
       "    </tr>\n",
       "    <tr>\n",
       "      <th>2</th>\n",
       "      <td>4.7</td>\n",
       "      <td>3.2</td>\n",
       "      <td>1.3</td>\n",
       "      <td>0.2</td>\n",
       "      <td>0</td>\n",
       "    </tr>\n",
       "  </tbody>\n",
       "</table>\n",
       "</div>"
      ],
      "text/plain": [
       "   sepal length (cm)  sepal width (cm)  petal length (cm)  petal width (cm)  \\\n",
       "0                5.1               3.5                1.4               0.2   \n",
       "1                4.9               3.0                1.4               0.2   \n",
       "2                4.7               3.2                1.3               0.2   \n",
       "\n",
       "   target  \n",
       "0       0  \n",
       "1       0  \n",
       "2       0  "
      ]
     },
     "execution_count": 23,
     "metadata": {},
     "output_type": "execute_result"
    }
   ],
   "source": [
    "df.head(3)"
   ]
  },
  {
   "cell_type": "code",
   "execution_count": 28,
   "id": "83e3ce63",
   "metadata": {},
   "outputs": [],
   "source": [
    "newData = pd.concat([df.iloc[:, 0], df.iloc[:, -1]], axis=1)"
   ]
  },
  {
   "cell_type": "code",
   "execution_count": 29,
   "id": "4923d67b",
   "metadata": {},
   "outputs": [],
   "source": [
    "newData = np.array(newData)"
   ]
  },
  {
   "cell_type": "code",
   "execution_count": 34,
   "id": "79e44052",
   "metadata": {},
   "outputs": [],
   "source": [
    "seto_array = newData[newData[: , 1]==0]"
   ]
  },
  {
   "cell_type": "code",
   "execution_count": 35,
   "id": "97929db7",
   "metadata": {},
   "outputs": [],
   "source": [
    "versi_array = newData[newData[: , 1]==1]"
   ]
  },
  {
   "cell_type": "code",
   "execution_count": 36,
   "id": "f0ff4109",
   "metadata": {},
   "outputs": [],
   "source": [
    "virgi_array = [newData[: , 1]==2]"
   ]
  },
  {
   "cell_type": "code",
   "execution_count": 44,
   "id": "8d7b2727",
   "metadata": {},
   "outputs": [
    {
     "data": {
      "text/plain": [
       "array([6.3, 5.8, 7.1, 6.3, 6.5, 7.6, 4.9, 7.3, 6.7, 7.2, 6.5, 6.4, 6.8,\n",
       "       5.7, 5.8, 6.4, 6.5, 7.7, 7.7, 6. , 6.9, 5.6, 7.7, 6.3, 6.7, 7.2,\n",
       "       6.2, 6.1, 6.4, 7.2, 7.4, 7.9, 6.4, 6.3, 6.1, 7.7, 6.3, 6.4, 6. ,\n",
       "       6.9, 6.7, 6.9, 5.8, 6.8, 6.7, 6.7, 6.3, 6.5, 6.2, 5.9])"
      ]
     },
     "execution_count": 44,
     "metadata": {},
     "output_type": "execute_result"
    }
   ],
   "source": [
    "virgi_array[:, 0]"
   ]
  },
  {
   "cell_type": "code",
   "execution_count": 48,
   "id": "da53aa87",
   "metadata": {},
   "outputs": [],
   "source": [
    "F_statistics, p_val = stats.f_oneway(seto_array[:, 0],\n",
    "                                     versi_array[:, 0],\n",
    "                                     virgi_array[:, 0])"
   ]
  },
  {
   "cell_type": "code",
   "execution_count": 49,
   "id": "b0d1d836",
   "metadata": {},
   "outputs": [
    {
     "name": "stdout",
     "output_type": "stream",
     "text": [
      "F statistics is: 119.26450218450468 p value is: 1.669669190769383e-31\n"
     ]
    }
   ],
   "source": [
    "print('F statistics is:', F_statistics, 'p value is:', p_val)"
   ]
  },
  {
   "cell_type": "markdown",
   "id": "4cda598b",
   "metadata": {},
   "source": [
    "### (2) 방법 2"
   ]
  },
  {
   "cell_type": "code",
   "execution_count": 6,
   "id": "4a4b83c0",
   "metadata": {},
   "outputs": [
    {
     "name": "stdout",
     "output_type": "stream",
     "text": [
      "Collecting statsmodels\n",
      "  Using cached statsmodels-0.14.0-cp38-cp38-win_amd64.whl (9.4 MB)\n",
      "Requirement already satisfied: scipy!=1.9.2,>=1.4 in c:\\users\\stell\\appdata\\local\\programs\\python\\python38\\lib\\site-packages (from statsmodels) (1.10.1)\n",
      "Requirement already satisfied: numpy>=1.18 in c:\\users\\stell\\appdata\\local\\programs\\python\\python38\\lib\\site-packages (from statsmodels) (1.23.5)\n",
      "Collecting packaging>=21.3\n",
      "  Using cached packaging-23.1-py3-none-any.whl (48 kB)\n",
      "Requirement already satisfied: pandas>=1.0 in c:\\users\\stell\\appdata\\local\\programs\\python\\python38\\lib\\site-packages (from statsmodels) (1.4.0)\n",
      "Collecting patsy>=0.5.2\n",
      "  Using cached patsy-0.5.3-py2.py3-none-any.whl (233 kB)\n",
      "Requirement already satisfied: pytz>=2020.1 in c:\\users\\stell\\appdata\\local\\programs\\python\\python38\\lib\\site-packages (from pandas>=1.0->statsmodels) (2021.3)\n",
      "Requirement already satisfied: python-dateutil>=2.8.1 in c:\\users\\stell\\appdata\\local\\programs\\python\\python38\\lib\\site-packages (from pandas>=1.0->statsmodels) (2.8.2)\n",
      "Requirement already satisfied: six in c:\\users\\stell\\appdata\\local\\programs\\python\\python38\\lib\\site-packages (from patsy>=0.5.2->statsmodels) (1.16.0)\n",
      "Installing collected packages: patsy, packaging, statsmodels\n",
      "  Attempting uninstall: packaging\n",
      "    Found existing installation: packaging 21.0\n",
      "    Uninstalling packaging-21.0:\n",
      "      Successfully uninstalled packaging-21.0\n",
      "Successfully installed packaging-23.1 patsy-0.5.3 statsmodels-0.14.0\n"
     ]
    },
    {
     "name": "stderr",
     "output_type": "stream",
     "text": [
      "WARNING: You are using pip version 22.0.3; however, version 23.1.2 is available.\n",
      "You should consider upgrading via the 'c:\\users\\stell\\appdata\\local\\programs\\python\\python38\\python.exe -m pip install --upgrade pip' command.\n"
     ]
    }
   ],
   "source": [
    "!pip install statsmodels"
   ]
  },
  {
   "cell_type": "code",
   "execution_count": 8,
   "id": "39dd156c",
   "metadata": {},
   "outputs": [],
   "source": [
    "import statsmodels.api as sm\n",
    "from statsmodels.formula.api import ols"
   ]
  },
  {
   "cell_type": "code",
   "execution_count": 9,
   "id": "25b6d874",
   "metadata": {},
   "outputs": [
    {
     "data": {
      "text/html": [
       "<div>\n",
       "<style scoped>\n",
       "    .dataframe tbody tr th:only-of-type {\n",
       "        vertical-align: middle;\n",
       "    }\n",
       "\n",
       "    .dataframe tbody tr th {\n",
       "        vertical-align: top;\n",
       "    }\n",
       "\n",
       "    .dataframe thead th {\n",
       "        text-align: right;\n",
       "    }\n",
       "</style>\n",
       "<table border=\"1\" class=\"dataframe\">\n",
       "  <thead>\n",
       "    <tr style=\"text-align: right;\">\n",
       "      <th></th>\n",
       "      <th>sepal length (cm)</th>\n",
       "      <th>sepal width (cm)</th>\n",
       "      <th>petal length (cm)</th>\n",
       "      <th>petal width (cm)</th>\n",
       "      <th>target</th>\n",
       "    </tr>\n",
       "  </thead>\n",
       "  <tbody>\n",
       "    <tr>\n",
       "      <th>0</th>\n",
       "      <td>5.1</td>\n",
       "      <td>3.5</td>\n",
       "      <td>1.4</td>\n",
       "      <td>0.2</td>\n",
       "      <td>0</td>\n",
       "    </tr>\n",
       "    <tr>\n",
       "      <th>1</th>\n",
       "      <td>4.9</td>\n",
       "      <td>3.0</td>\n",
       "      <td>1.4</td>\n",
       "      <td>0.2</td>\n",
       "      <td>0</td>\n",
       "    </tr>\n",
       "    <tr>\n",
       "      <th>2</th>\n",
       "      <td>4.7</td>\n",
       "      <td>3.2</td>\n",
       "      <td>1.3</td>\n",
       "      <td>0.2</td>\n",
       "      <td>0</td>\n",
       "    </tr>\n",
       "  </tbody>\n",
       "</table>\n",
       "</div>"
      ],
      "text/plain": [
       "   sepal length (cm)  sepal width (cm)  petal length (cm)  petal width (cm)  \\\n",
       "0                5.1               3.5                1.4               0.2   \n",
       "1                4.9               3.0                1.4               0.2   \n",
       "2                4.7               3.2                1.3               0.2   \n",
       "\n",
       "   target  \n",
       "0       0  \n",
       "1       0  \n",
       "2       0  "
      ]
     },
     "execution_count": 9,
     "metadata": {},
     "output_type": "execute_result"
    }
   ],
   "source": [
    "df.head(3)"
   ]
  },
  {
   "cell_type": "code",
   "execution_count": 13,
   "id": "5c46a4d0",
   "metadata": {},
   "outputs": [],
   "source": [
    "df = df.rename(columns={'sepal length (cm)':'sepal_length'})"
   ]
  },
  {
   "cell_type": "code",
   "execution_count": 24,
   "id": "6ee98090",
   "metadata": {},
   "outputs": [],
   "source": [
    "df['target'] = [i+1 for i in list(df['target'])]"
   ]
  },
  {
   "cell_type": "code",
   "execution_count": 25,
   "id": "5998fc1f",
   "metadata": {},
   "outputs": [
    {
     "data": {
      "text/html": [
       "<div>\n",
       "<style scoped>\n",
       "    .dataframe tbody tr th:only-of-type {\n",
       "        vertical-align: middle;\n",
       "    }\n",
       "\n",
       "    .dataframe tbody tr th {\n",
       "        vertical-align: top;\n",
       "    }\n",
       "\n",
       "    .dataframe thead th {\n",
       "        text-align: right;\n",
       "    }\n",
       "</style>\n",
       "<table border=\"1\" class=\"dataframe\">\n",
       "  <thead>\n",
       "    <tr style=\"text-align: right;\">\n",
       "      <th></th>\n",
       "      <th>sepal_length</th>\n",
       "      <th>sepal width (cm)</th>\n",
       "      <th>petal length (cm)</th>\n",
       "      <th>petal width (cm)</th>\n",
       "      <th>target</th>\n",
       "    </tr>\n",
       "  </thead>\n",
       "  <tbody>\n",
       "    <tr>\n",
       "      <th>0</th>\n",
       "      <td>5.1</td>\n",
       "      <td>3.5</td>\n",
       "      <td>1.4</td>\n",
       "      <td>0.2</td>\n",
       "      <td>1</td>\n",
       "    </tr>\n",
       "    <tr>\n",
       "      <th>1</th>\n",
       "      <td>4.9</td>\n",
       "      <td>3.0</td>\n",
       "      <td>1.4</td>\n",
       "      <td>0.2</td>\n",
       "      <td>1</td>\n",
       "    </tr>\n",
       "    <tr>\n",
       "      <th>2</th>\n",
       "      <td>4.7</td>\n",
       "      <td>3.2</td>\n",
       "      <td>1.3</td>\n",
       "      <td>0.2</td>\n",
       "      <td>1</td>\n",
       "    </tr>\n",
       "    <tr>\n",
       "      <th>3</th>\n",
       "      <td>4.6</td>\n",
       "      <td>3.1</td>\n",
       "      <td>1.5</td>\n",
       "      <td>0.2</td>\n",
       "      <td>1</td>\n",
       "    </tr>\n",
       "    <tr>\n",
       "      <th>4</th>\n",
       "      <td>5.0</td>\n",
       "      <td>3.6</td>\n",
       "      <td>1.4</td>\n",
       "      <td>0.2</td>\n",
       "      <td>1</td>\n",
       "    </tr>\n",
       "    <tr>\n",
       "      <th>...</th>\n",
       "      <td>...</td>\n",
       "      <td>...</td>\n",
       "      <td>...</td>\n",
       "      <td>...</td>\n",
       "      <td>...</td>\n",
       "    </tr>\n",
       "    <tr>\n",
       "      <th>145</th>\n",
       "      <td>6.7</td>\n",
       "      <td>3.0</td>\n",
       "      <td>5.2</td>\n",
       "      <td>2.3</td>\n",
       "      <td>3</td>\n",
       "    </tr>\n",
       "    <tr>\n",
       "      <th>146</th>\n",
       "      <td>6.3</td>\n",
       "      <td>2.5</td>\n",
       "      <td>5.0</td>\n",
       "      <td>1.9</td>\n",
       "      <td>3</td>\n",
       "    </tr>\n",
       "    <tr>\n",
       "      <th>147</th>\n",
       "      <td>6.5</td>\n",
       "      <td>3.0</td>\n",
       "      <td>5.2</td>\n",
       "      <td>2.0</td>\n",
       "      <td>3</td>\n",
       "    </tr>\n",
       "    <tr>\n",
       "      <th>148</th>\n",
       "      <td>6.2</td>\n",
       "      <td>3.4</td>\n",
       "      <td>5.4</td>\n",
       "      <td>2.3</td>\n",
       "      <td>3</td>\n",
       "    </tr>\n",
       "    <tr>\n",
       "      <th>149</th>\n",
       "      <td>5.9</td>\n",
       "      <td>3.0</td>\n",
       "      <td>5.1</td>\n",
       "      <td>1.8</td>\n",
       "      <td>3</td>\n",
       "    </tr>\n",
       "  </tbody>\n",
       "</table>\n",
       "<p>150 rows × 5 columns</p>\n",
       "</div>"
      ],
      "text/plain": [
       "     sepal_length  sepal width (cm)  petal length (cm)  petal width (cm)  \\\n",
       "0             5.1               3.5                1.4               0.2   \n",
       "1             4.9               3.0                1.4               0.2   \n",
       "2             4.7               3.2                1.3               0.2   \n",
       "3             4.6               3.1                1.5               0.2   \n",
       "4             5.0               3.6                1.4               0.2   \n",
       "..            ...               ...                ...               ...   \n",
       "145           6.7               3.0                5.2               2.3   \n",
       "146           6.3               2.5                5.0               1.9   \n",
       "147           6.5               3.0                5.2               2.0   \n",
       "148           6.2               3.4                5.4               2.3   \n",
       "149           5.9               3.0                5.1               1.8   \n",
       "\n",
       "     target  \n",
       "0         1  \n",
       "1         1  \n",
       "2         1  \n",
       "3         1  \n",
       "4         1  \n",
       "..      ...  \n",
       "145       3  \n",
       "146       3  \n",
       "147       3  \n",
       "148       3  \n",
       "149       3  \n",
       "\n",
       "[150 rows x 5 columns]"
      ]
     },
     "execution_count": 25,
     "metadata": {},
     "output_type": "execute_result"
    }
   ],
   "source": [
    "df"
   ]
  },
  {
   "cell_type": "code",
   "execution_count": 26,
   "id": "cc8eda9a",
   "metadata": {},
   "outputs": [],
   "source": [
    "iris_result = ols(\"sepal_length ~ target\", data=df).fit()"
   ]
  },
  {
   "cell_type": "code",
   "execution_count": 28,
   "id": "d1c67bde",
   "metadata": {},
   "outputs": [
    {
     "data": {
      "text/html": [
       "<div>\n",
       "<style scoped>\n",
       "    .dataframe tbody tr th:only-of-type {\n",
       "        vertical-align: middle;\n",
       "    }\n",
       "\n",
       "    .dataframe tbody tr th {\n",
       "        vertical-align: top;\n",
       "    }\n",
       "\n",
       "    .dataframe thead th {\n",
       "        text-align: right;\n",
       "    }\n",
       "</style>\n",
       "<table border=\"1\" class=\"dataframe\">\n",
       "  <thead>\n",
       "    <tr style=\"text-align: right;\">\n",
       "      <th></th>\n",
       "      <th>df</th>\n",
       "      <th>sum_sq</th>\n",
       "      <th>mean_sq</th>\n",
       "      <th>F</th>\n",
       "      <th>PR(&gt;F)</th>\n",
       "    </tr>\n",
       "  </thead>\n",
       "  <tbody>\n",
       "    <tr>\n",
       "      <th>target</th>\n",
       "      <td>1.0</td>\n",
       "      <td>62.568100</td>\n",
       "      <td>62.568100</td>\n",
       "      <td>233.838996</td>\n",
       "      <td>2.890478e-32</td>\n",
       "    </tr>\n",
       "    <tr>\n",
       "      <th>Residual</th>\n",
       "      <td>148.0</td>\n",
       "      <td>39.600233</td>\n",
       "      <td>0.267569</td>\n",
       "      <td>NaN</td>\n",
       "      <td>NaN</td>\n",
       "    </tr>\n",
       "  </tbody>\n",
       "</table>\n",
       "</div>"
      ],
      "text/plain": [
       "             df     sum_sq    mean_sq           F        PR(>F)\n",
       "target      1.0  62.568100  62.568100  233.838996  2.890478e-32\n",
       "Residual  148.0  39.600233   0.267569         NaN           NaN"
      ]
     },
     "execution_count": 28,
     "metadata": {},
     "output_type": "execute_result"
    }
   ],
   "source": [
    "sm.stats.anova_lm(iris_result, type=2)"
   ]
  },
  {
   "cell_type": "code",
   "execution_count": null,
   "id": "79200dc9",
   "metadata": {},
   "outputs": [],
   "source": []
  }
 ],
 "metadata": {
  "kernelspec": {
   "display_name": "Python 3 (ipykernel)",
   "language": "python",
   "name": "python3"
  },
  "language_info": {
   "codemirror_mode": {
    "name": "ipython",
    "version": 3
   },
   "file_extension": ".py",
   "mimetype": "text/x-python",
   "name": "python",
   "nbconvert_exporter": "python",
   "pygments_lexer": "ipython3",
   "version": "3.8.5"
  }
 },
 "nbformat": 4,
 "nbformat_minor": 5
}
