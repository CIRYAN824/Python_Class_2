{
 "cells": [
  {
   "cell_type": "markdown",
   "id": "4e1595f9",
   "metadata": {},
   "source": [
    "## variable assign"
   ]
  },
  {
   "cell_type": "code",
   "execution_count": 2,
   "id": "2dc9ca6d",
   "metadata": {},
   "outputs": [],
   "source": [
    "I_like_pizza = 3"
   ]
  },
  {
   "cell_type": "code",
   "execution_count": 44,
   "id": "d2d1de25",
   "metadata": {},
   "outputs": [
    {
     "ename": "SyntaxError",
     "evalue": "invalid syntax (Temp/ipykernel_31272/2991625822.py, line 1)",
     "output_type": "error",
     "traceback": [
      "\u001b[1;36m  File \u001b[1;32m\"C:\\Users\\stell\\AppData\\Local\\Temp/ipykernel_31272/2991625822.py\"\u001b[1;36m, line \u001b[1;32m1\u001b[0m\n\u001b[1;33m    1b = \"2\"\u001b[0m\n\u001b[1;37m     ^\u001b[0m\n\u001b[1;31mSyntaxError\u001b[0m\u001b[1;31m:\u001b[0m invalid syntax\n"
     ]
    }
   ],
   "source": [
    "1b = \"2\""
   ]
  },
  {
   "cell_type": "code",
   "execution_count": 45,
   "id": "089e4693",
   "metadata": {},
   "outputs": [],
   "source": [
    "b = '2'"
   ]
  },
  {
   "cell_type": "code",
   "execution_count": 46,
   "id": "e8fe2729",
   "metadata": {},
   "outputs": [],
   "source": [
    "b1 = '2'"
   ]
  },
  {
   "cell_type": "code",
   "execution_count": 47,
   "id": "d2f7671c",
   "metadata": {},
   "outputs": [
    {
     "ename": "SyntaxError",
     "evalue": "cannot assign to literal (Temp/ipykernel_31272/1933374232.py, line 1)",
     "output_type": "error",
     "traceback": [
      "\u001b[1;36m  File \u001b[1;32m\"C:\\Users\\stell\\AppData\\Local\\Temp/ipykernel_31272/1933374232.py\"\u001b[1;36m, line \u001b[1;32m1\u001b[0m\n\u001b[1;33m    \"b1\" = '2'\u001b[0m\n\u001b[1;37m    ^\u001b[0m\n\u001b[1;31mSyntaxError\u001b[0m\u001b[1;31m:\u001b[0m cannot assign to literal\n"
     ]
    }
   ],
   "source": [
    "\"b1\" = '2'"
   ]
  },
  {
   "cell_type": "markdown",
   "id": "1505a28c",
   "metadata": {},
   "source": [
    "## string part 2"
   ]
  },
  {
   "cell_type": "code",
   "execution_count": 3,
   "id": "f6153d15",
   "metadata": {},
   "outputs": [],
   "source": [
    "a = \"I love dog\""
   ]
  },
  {
   "cell_type": "code",
   "execution_count": 4,
   "id": "8fd3e4e6",
   "metadata": {},
   "outputs": [
    {
     "data": {
      "text/plain": [
       "'g'"
      ]
     },
     "execution_count": 4,
     "metadata": {},
     "output_type": "execute_result"
    }
   ],
   "source": [
    "a[-1]"
   ]
  },
  {
   "cell_type": "code",
   "execution_count": 40,
   "id": "049a0341",
   "metadata": {},
   "outputs": [
    {
     "data": {
      "text/plain": [
       "'love'"
      ]
     },
     "execution_count": 40,
     "metadata": {},
     "output_type": "execute_result"
    }
   ],
   "source": [
    "a[2:-4]"
   ]
  },
  {
   "cell_type": "code",
   "execution_count": 5,
   "id": "84161668",
   "metadata": {},
   "outputs": [
    {
     "data": {
      "text/plain": [
       "'love'"
      ]
     },
     "execution_count": 5,
     "metadata": {},
     "output_type": "execute_result"
    }
   ],
   "source": [
    "a[2:6]"
   ]
  },
  {
   "cell_type": "code",
   "execution_count": 38,
   "id": "b74bfaec",
   "metadata": {},
   "outputs": [
    {
     "data": {
      "text/plain": [
       "'d'"
      ]
     },
     "execution_count": 38,
     "metadata": {},
     "output_type": "execute_result"
    }
   ],
   "source": [
    "a[-3]"
   ]
  },
  {
   "cell_type": "code",
   "execution_count": 39,
   "id": "cc402031",
   "metadata": {},
   "outputs": [
    {
     "data": {
      "text/plain": [
       "' '"
      ]
     },
     "execution_count": 39,
     "metadata": {},
     "output_type": "execute_result"
    }
   ],
   "source": [
    "a[-4]"
   ]
  },
  {
   "cell_type": "code",
   "execution_count": 28,
   "id": "ccc0166d",
   "metadata": {},
   "outputs": [
    {
     "name": "stdout",
     "output_type": "stream",
     "text": [
      "I\n",
      " \n",
      "l\n",
      "o\n",
      "v\n",
      "e\n",
      " \n",
      "d\n",
      "o\n",
      "g\n"
     ]
    }
   ],
   "source": [
    "for i in a:\n",
    "    print(i)"
   ]
  },
  {
   "cell_type": "code",
   "execution_count": 6,
   "id": "8a947b3a",
   "metadata": {},
   "outputs": [],
   "source": [
    "a = '''\n",
    "Life is short.\n",
    "You need python\n",
    "'''"
   ]
  },
  {
   "cell_type": "code",
   "execution_count": 7,
   "id": "e47a512b",
   "metadata": {},
   "outputs": [
    {
     "name": "stdout",
     "output_type": "stream",
     "text": [
      "\n",
      "Life is short.\n",
      "You need python\n",
      "\n"
     ]
    }
   ],
   "source": [
    "print(a) # this code is printing the sentence."
   ]
  },
  {
   "cell_type": "code",
   "execution_count": 5,
   "id": "85475de7",
   "metadata": {},
   "outputs": [
    {
     "data": {
      "text/plain": [
       "'I say \"blah\"'"
      ]
     },
     "execution_count": 5,
     "metadata": {},
     "output_type": "execute_result"
    }
   ],
   "source": [
    "\"I say \\\"blah\\\"\""
   ]
  },
  {
   "cell_type": "code",
   "execution_count": 3,
   "id": "fa1825c2",
   "metadata": {},
   "outputs": [
    {
     "ename": "SyntaxError",
     "evalue": "invalid syntax (Temp/ipykernel_31272/3722101362.py, line 1)",
     "output_type": "error",
     "traceback": [
      "\u001b[1;36m  File \u001b[1;32m\"C:\\Users\\stell\\AppData\\Local\\Temp/ipykernel_31272/3722101362.py\"\u001b[1;36m, line \u001b[1;32m1\u001b[0m\n\u001b[1;33m    \"I say \"blah\"\"\u001b[0m\n\u001b[1;37m            ^\u001b[0m\n\u001b[1;31mSyntaxError\u001b[0m\u001b[1;31m:\u001b[0m invalid syntax\n"
     ]
    }
   ],
   "source": [
    "\"I say \"blah\"\""
   ]
  },
  {
   "cell_type": "code",
   "execution_count": 4,
   "id": "d16691a8",
   "metadata": {},
   "outputs": [
    {
     "data": {
      "text/plain": [
       "'I say \"blah\"'"
      ]
     },
     "execution_count": 4,
     "metadata": {},
     "output_type": "execute_result"
    }
   ],
   "source": [
    "'I say \"blah\"'"
   ]
  },
  {
   "cell_type": "code",
   "execution_count": 1,
   "id": "bdd0271a",
   "metadata": {},
   "outputs": [
    {
     "data": {
      "text/plain": [
       "\"Python's blah blah\""
      ]
     },
     "execution_count": 1,
     "metadata": {},
     "output_type": "execute_result"
    }
   ],
   "source": [
    "\"Python's blah blah\""
   ]
  },
  {
   "cell_type": "code",
   "execution_count": 2,
   "id": "22dcf224",
   "metadata": {},
   "outputs": [
    {
     "ename": "SyntaxError",
     "evalue": "invalid syntax (Temp/ipykernel_31272/422168138.py, line 1)",
     "output_type": "error",
     "traceback": [
      "\u001b[1;36m  File \u001b[1;32m\"C:\\Users\\stell\\AppData\\Local\\Temp/ipykernel_31272/422168138.py\"\u001b[1;36m, line \u001b[1;32m1\u001b[0m\n\u001b[1;33m    'Python's blah blah'\u001b[0m\n\u001b[1;37m            ^\u001b[0m\n\u001b[1;31mSyntaxError\u001b[0m\u001b[1;31m:\u001b[0m invalid syntax\n"
     ]
    }
   ],
   "source": [
    "'Python's blah blah'"
   ]
  },
  {
   "cell_type": "markdown",
   "id": "1b01562c",
   "metadata": {},
   "source": [
    "## string formatting"
   ]
  },
  {
   "cell_type": "code",
   "execution_count": 9,
   "id": "00e62899",
   "metadata": {},
   "outputs": [],
   "source": [
    "a = 89"
   ]
  },
  {
   "cell_type": "code",
   "execution_count": 11,
   "id": "5088ba94",
   "metadata": {},
   "outputs": [
    {
     "name": "stdout",
     "output_type": "stream",
     "text": [
      "apple banana\n"
     ]
    }
   ],
   "source": [
    "print('apple', 'banana')"
   ]
  },
  {
   "cell_type": "code",
   "execution_count": 10,
   "id": "8f83e6bb",
   "metadata": {},
   "outputs": [
    {
     "name": "stdout",
     "output_type": "stream",
     "text": [
      "temperature is : 89\n"
     ]
    }
   ],
   "source": [
    "print('temperature is :', a)"
   ]
  },
  {
   "cell_type": "code",
   "execution_count": 50,
   "id": "49e220bd",
   "metadata": {},
   "outputs": [
    {
     "name": "stdout",
     "output_type": "stream",
     "text": [
      "temperature is 89 \n"
     ]
    }
   ],
   "source": [
    "print('temperature is %d ' % a)"
   ]
  },
  {
   "cell_type": "code",
   "execution_count": 2,
   "id": "f4e562e6",
   "metadata": {},
   "outputs": [
    {
     "name": "stdout",
     "output_type": "stream",
     "text": [
      "I love dog\n"
     ]
    }
   ],
   "source": [
    "print('I love %s' % 'dog')"
   ]
  },
  {
   "cell_type": "code",
   "execution_count": 14,
   "id": "0080b6d6",
   "metadata": {},
   "outputs": [
    {
     "name": "stdout",
     "output_type": "stream",
     "text": [
      "I ate 3 apples\n"
     ]
    }
   ],
   "source": [
    "print('I ate %d apples' % 3)"
   ]
  },
  {
   "cell_type": "code",
   "execution_count": 13,
   "id": "1c3b7ee8",
   "metadata": {},
   "outputs": [
    {
     "name": "stdout",
     "output_type": "stream",
     "text": [
      "I ate 3 apples\n"
     ]
    }
   ],
   "source": [
    "print('I ate %s apples' % '3')"
   ]
  },
  {
   "cell_type": "code",
   "execution_count": 55,
   "id": "c7bdb47f",
   "metadata": {},
   "outputs": [
    {
     "name": "stdout",
     "output_type": "stream",
     "text": [
      "error rate is 0.300000 %\n"
     ]
    }
   ],
   "source": [
    "print('error rate is %f %%' % 0.3)"
   ]
  },
  {
   "cell_type": "code",
   "execution_count": 59,
   "id": "f3a80986",
   "metadata": {},
   "outputs": [
    {
     "name": "stdout",
     "output_type": "stream",
     "text": [
      "error rate is 0.3353655%\n"
     ]
    }
   ],
   "source": [
    "print('error rate is %0.7f%%' % 0.33536547658679698780709889)"
   ]
  },
  {
   "cell_type": "code",
   "execution_count": 62,
   "id": "059e5721",
   "metadata": {},
   "outputs": [
    {
     "name": "stdout",
     "output_type": "stream",
     "text": [
      "error rate is 1 %\n"
     ]
    }
   ],
   "source": [
    "print('error rate is %d %%' % 1.35345235234234523532)"
   ]
  },
  {
   "cell_type": "code",
   "execution_count": 63,
   "id": "aca39b0b",
   "metadata": {},
   "outputs": [
    {
     "name": "stdout",
     "output_type": "stream",
     "text": [
      "first is 1 second is 2 third is 3\n"
     ]
    }
   ],
   "source": [
    "print('first is {0} second is {1} third is {2}'.format(1, 2, 3))"
   ]
  },
  {
   "cell_type": "code",
   "execution_count": 64,
   "id": "d0540a1b",
   "metadata": {},
   "outputs": [
    {
     "name": "stdout",
     "output_type": "stream",
     "text": [
      "first is 3 second is 2 third is 1\n"
     ]
    }
   ],
   "source": [
    "print('first is {2} second is {1} third is {0}'.format(1, 2, 3))"
   ]
  },
  {
   "cell_type": "code",
   "execution_count": 7,
   "id": "9db52f79",
   "metadata": {},
   "outputs": [
    {
     "name": "stdout",
     "output_type": "stream",
     "text": [
      "I ate 3 apples. It was delicious.\n"
     ]
    }
   ],
   "source": [
    "print('I ate {0} apples. It was {1}.'.format(3, 'delicious'))"
   ]
  },
  {
   "cell_type": "code",
   "execution_count": 65,
   "id": "e8264d17",
   "metadata": {},
   "outputs": [
    {
     "name": "stdout",
     "output_type": "stream",
     "text": [
      "I ate 3 apples. It was delicious.\n"
     ]
    }
   ],
   "source": [
    "howmuch = 3\n",
    "taste = 'delicious'\n",
    "print('I ate {0} apples. It was {1}.'.format(howmuch, taste))"
   ]
  },
  {
   "cell_type": "code",
   "execution_count": 67,
   "id": "ce38a7c7",
   "metadata": {},
   "outputs": [
    {
     "name": "stdout",
     "output_type": "stream",
     "text": [
      "I ate 3 apples. It was delicious.\n"
     ]
    }
   ],
   "source": [
    "howmuch = 3\n",
    "taste = 'delicious'\n",
    "print(f'I ate {howmuch} apples. It was {taste}.')"
   ]
  },
  {
   "cell_type": "markdown",
   "id": "af552e4f",
   "metadata": {},
   "source": [
    "## methods of string"
   ]
  },
  {
   "cell_type": "code",
   "execution_count": 15,
   "id": "55ab74a7",
   "metadata": {},
   "outputs": [],
   "source": [
    "a = \"red orange\""
   ]
  },
  {
   "cell_type": "code",
   "execution_count": 16,
   "id": "404b7bde",
   "metadata": {},
   "outputs": [
    {
     "data": {
      "text/plain": [
       "2"
      ]
     },
     "execution_count": 16,
     "metadata": {},
     "output_type": "execute_result"
    }
   ],
   "source": [
    "a.count('e')"
   ]
  },
  {
   "cell_type": "code",
   "execution_count": 17,
   "id": "1420ae99",
   "metadata": {},
   "outputs": [
    {
     "data": {
      "text/plain": [
       "0"
      ]
     },
     "execution_count": 17,
     "metadata": {},
     "output_type": "execute_result"
    }
   ],
   "source": [
    "a.find('r')"
   ]
  },
  {
   "cell_type": "code",
   "execution_count": 18,
   "id": "650cbe9a",
   "metadata": {},
   "outputs": [
    {
     "data": {
      "text/plain": [
       "-1"
      ]
     },
     "execution_count": 18,
     "metadata": {},
     "output_type": "execute_result"
    }
   ],
   "source": [
    "a.find('f')"
   ]
  },
  {
   "cell_type": "code",
   "execution_count": 19,
   "id": "0364c73e",
   "metadata": {},
   "outputs": [
    {
     "data": {
      "text/plain": [
       "4"
      ]
     },
     "execution_count": 19,
     "metadata": {},
     "output_type": "execute_result"
    }
   ],
   "source": [
    "a.index('o')"
   ]
  },
  {
   "cell_type": "code",
   "execution_count": 20,
   "id": "a3d88c97",
   "metadata": {},
   "outputs": [
    {
     "ename": "ValueError",
     "evalue": "substring not found",
     "output_type": "error",
     "traceback": [
      "\u001b[1;31m---------------------------------------------------------------------------\u001b[0m",
      "\u001b[1;31mValueError\u001b[0m                                Traceback (most recent call last)",
      "\u001b[1;32m~\\AppData\\Local\\Temp/ipykernel_6572/3996473256.py\u001b[0m in \u001b[0;36m<module>\u001b[1;34m\u001b[0m\n\u001b[1;32m----> 1\u001b[1;33m \u001b[0ma\u001b[0m\u001b[1;33m.\u001b[0m\u001b[0mindex\u001b[0m\u001b[1;33m(\u001b[0m\u001b[1;34m'f'\u001b[0m\u001b[1;33m)\u001b[0m\u001b[1;33m\u001b[0m\u001b[1;33m\u001b[0m\u001b[0m\n\u001b[0m",
      "\u001b[1;31mValueError\u001b[0m: substring not found"
     ]
    }
   ],
   "source": [
    "a.index('f')"
   ]
  },
  {
   "cell_type": "code",
   "execution_count": 80,
   "id": "07ef14ee",
   "metadata": {},
   "outputs": [
    {
     "data": {
      "text/plain": [
       "'a---------b---------c---------d---------e---------d---------f'"
      ]
     },
     "execution_count": 80,
     "metadata": {},
     "output_type": "execute_result"
    }
   ],
   "source": [
    "\"---------\".join(\"abcdedf\")"
   ]
  },
  {
   "cell_type": "code",
   "execution_count": 21,
   "id": "d8f2c683",
   "metadata": {},
   "outputs": [],
   "source": [
    "a = \"I LOVE PARIS\""
   ]
  },
  {
   "cell_type": "code",
   "execution_count": 22,
   "id": "94b98587",
   "metadata": {},
   "outputs": [
    {
     "data": {
      "text/plain": [
       "'i love paris'"
      ]
     },
     "execution_count": 22,
     "metadata": {},
     "output_type": "execute_result"
    }
   ],
   "source": [
    "a.lower()"
   ]
  },
  {
   "cell_type": "code",
   "execution_count": 23,
   "id": "34331d7d",
   "metadata": {},
   "outputs": [],
   "source": [
    "a = \"i love vienna\""
   ]
  },
  {
   "cell_type": "code",
   "execution_count": 24,
   "id": "af29431f",
   "metadata": {},
   "outputs": [
    {
     "data": {
      "text/plain": [
       "'I LOVE VIENNA'"
      ]
     },
     "execution_count": 24,
     "metadata": {},
     "output_type": "execute_result"
    }
   ],
   "source": [
    "a.upper()"
   ]
  },
  {
   "cell_type": "code",
   "execution_count": 25,
   "id": "0395b5c6",
   "metadata": {},
   "outputs": [
    {
     "name": "stdout",
     "output_type": "stream",
     "text": [
      "I LOVE VIENNA\n"
     ]
    }
   ],
   "source": [
    "print(a.upper())"
   ]
  },
  {
   "cell_type": "code",
   "execution_count": 26,
   "id": "6b257f09",
   "metadata": {},
   "outputs": [
    {
     "data": {
      "text/plain": [
       "'I Love Vienna'"
      ]
     },
     "execution_count": 26,
     "metadata": {},
     "output_type": "execute_result"
    }
   ],
   "source": [
    "a.title()"
   ]
  },
  {
   "cell_type": "code",
   "execution_count": 87,
   "id": "b3cdba97",
   "metadata": {},
   "outputs": [],
   "source": [
    "a = \"                  cats\""
   ]
  },
  {
   "cell_type": "code",
   "execution_count": 88,
   "id": "6a98bf4b",
   "metadata": {},
   "outputs": [
    {
     "data": {
      "text/plain": [
       "'cats'"
      ]
     },
     "execution_count": 88,
     "metadata": {},
     "output_type": "execute_result"
    }
   ],
   "source": [
    "a.lstrip()"
   ]
  },
  {
   "cell_type": "code",
   "execution_count": 27,
   "id": "7e955f76",
   "metadata": {},
   "outputs": [],
   "source": [
    "a = \"cats                                          \"\n",
    "a = a.rstrip()"
   ]
  },
  {
   "cell_type": "code",
   "execution_count": 28,
   "id": "013581bf",
   "metadata": {},
   "outputs": [
    {
     "data": {
      "text/plain": [
       "'cats'"
      ]
     },
     "execution_count": 28,
     "metadata": {},
     "output_type": "execute_result"
    }
   ],
   "source": [
    "a"
   ]
  },
  {
   "cell_type": "code",
   "execution_count": 90,
   "id": "ace773d0",
   "metadata": {},
   "outputs": [
    {
     "data": {
      "text/plain": [
       "'cats                                          '"
      ]
     },
     "execution_count": 90,
     "metadata": {},
     "output_type": "execute_result"
    }
   ],
   "source": [
    "a"
   ]
  },
  {
   "cell_type": "code",
   "execution_count": 91,
   "id": "bde9c3ff",
   "metadata": {},
   "outputs": [
    {
     "data": {
      "text/plain": [
       "'cats'"
      ]
     },
     "execution_count": 91,
     "metadata": {},
     "output_type": "execute_result"
    }
   ],
   "source": [
    "a = \"             cats                      \"\n",
    "a.strip()"
   ]
  },
  {
   "cell_type": "code",
   "execution_count": 29,
   "id": "af997913",
   "metadata": {},
   "outputs": [],
   "source": [
    "a = \"Life is too short\""
   ]
  },
  {
   "cell_type": "code",
   "execution_count": 93,
   "id": "a7d13456",
   "metadata": {},
   "outputs": [
    {
     "data": {
      "text/plain": [
       "'Life is too beautiful'"
      ]
     },
     "execution_count": 93,
     "metadata": {},
     "output_type": "execute_result"
    }
   ],
   "source": [
    "a.replace(\"short\", \"beautiful\")"
   ]
  },
  {
   "cell_type": "code",
   "execution_count": 31,
   "id": "0f7c6001",
   "metadata": {},
   "outputs": [
    {
     "data": {
      "text/plain": [
       "'Life is too'"
      ]
     },
     "execution_count": 31,
     "metadata": {},
     "output_type": "execute_result"
    }
   ],
   "source": [
    "a[0:-6]"
   ]
  },
  {
   "cell_type": "code",
   "execution_count": 97,
   "id": "fb8c3f5b",
   "metadata": {},
   "outputs": [
    {
     "data": {
      "text/plain": [
       "'Life is too'"
      ]
     },
     "execution_count": 97,
     "metadata": {},
     "output_type": "execute_result"
    }
   ],
   "source": [
    "a.replace(\" short\", \"\")"
   ]
  },
  {
   "cell_type": "code",
   "execution_count": 101,
   "id": "a225310b",
   "metadata": {},
   "outputs": [
    {
     "data": {
      "text/plain": [
       "['Life', 'is', 'too', 'short']"
      ]
     },
     "execution_count": 101,
     "metadata": {},
     "output_type": "execute_result"
    }
   ],
   "source": [
    "a.split(' ')"
   ]
  },
  {
   "cell_type": "code",
   "execution_count": 102,
   "id": "6fe9bb14",
   "metadata": {},
   "outputs": [
    {
     "data": {
      "text/plain": [
       "['Life is t', '', ' sh', 'rt']"
      ]
     },
     "execution_count": 102,
     "metadata": {},
     "output_type": "execute_result"
    }
   ],
   "source": [
    "a.split('o')"
   ]
  },
  {
   "cell_type": "markdown",
   "id": "759079ba",
   "metadata": {},
   "source": [
    "## list"
   ]
  },
  {
   "cell_type": "code",
   "execution_count": 32,
   "id": "dcf4c71f",
   "metadata": {},
   "outputs": [],
   "source": [
    "a = [1, 2, 3, 4, 5]\n",
    "b = ['dog', 'cat', 'rabbit']"
   ]
  },
  {
   "cell_type": "code",
   "execution_count": 33,
   "id": "60ddb7f9",
   "metadata": {},
   "outputs": [],
   "source": [
    "c = [1, 2, 'cat']"
   ]
  },
  {
   "cell_type": "code",
   "execution_count": 34,
   "id": "2fafbd1e",
   "metadata": {},
   "outputs": [],
   "source": [
    "d = []"
   ]
  },
  {
   "cell_type": "code",
   "execution_count": 35,
   "id": "c6bc1fe5",
   "metadata": {},
   "outputs": [],
   "source": [
    "e = [1, 2, 3, ['dog', 'cat']]"
   ]
  },
  {
   "cell_type": "code",
   "execution_count": 48,
   "id": "7ca24010",
   "metadata": {},
   "outputs": [
    {
     "data": {
      "text/plain": [
       "'dog'"
      ]
     },
     "execution_count": 48,
     "metadata": {},
     "output_type": "execute_result"
    }
   ],
   "source": [
    "e[-1][0]"
   ]
  },
  {
   "cell_type": "code",
   "execution_count": 107,
   "id": "7b12d7d4",
   "metadata": {},
   "outputs": [
    {
     "name": "stdout",
     "output_type": "stream",
     "text": [
      "1\n",
      "2\n",
      "3\n",
      "['dog', 'cat']\n"
     ]
    }
   ],
   "source": [
    "for i in e:\n",
    "    print(i)"
   ]
  },
  {
   "cell_type": "code",
   "execution_count": 36,
   "id": "c22dc9dd",
   "metadata": {},
   "outputs": [
    {
     "data": {
      "text/plain": [
       "1"
      ]
     },
     "execution_count": 36,
     "metadata": {},
     "output_type": "execute_result"
    }
   ],
   "source": [
    "e[0]"
   ]
  },
  {
   "cell_type": "code",
   "execution_count": 37,
   "id": "a801e7f5",
   "metadata": {},
   "outputs": [
    {
     "data": {
      "text/plain": [
       "['dog', 'cat']"
      ]
     },
     "execution_count": 37,
     "metadata": {},
     "output_type": "execute_result"
    }
   ],
   "source": [
    "e[3]"
   ]
  },
  {
   "cell_type": "code",
   "execution_count": 38,
   "id": "b9122302",
   "metadata": {},
   "outputs": [
    {
     "data": {
      "text/plain": [
       "['dog', 'cat']"
      ]
     },
     "execution_count": 38,
     "metadata": {},
     "output_type": "execute_result"
    }
   ],
   "source": [
    "e[-1]"
   ]
  },
  {
   "cell_type": "code",
   "execution_count": 39,
   "id": "ee4e0c02",
   "metadata": {},
   "outputs": [
    {
     "data": {
      "text/plain": [
       "[1, 2, 3]"
      ]
     },
     "execution_count": 39,
     "metadata": {},
     "output_type": "execute_result"
    }
   ],
   "source": [
    "e[0:-1]"
   ]
  },
  {
   "cell_type": "code",
   "execution_count": 40,
   "id": "4e97b49d",
   "metadata": {},
   "outputs": [
    {
     "data": {
      "text/plain": [
       "[1, 2, 3]"
      ]
     },
     "execution_count": 40,
     "metadata": {},
     "output_type": "execute_result"
    }
   ],
   "source": [
    "e[0:3]"
   ]
  },
  {
   "cell_type": "code",
   "execution_count": 41,
   "id": "f3f7eb22",
   "metadata": {},
   "outputs": [
    {
     "data": {
      "text/plain": [
       "1"
      ]
     },
     "execution_count": 41,
     "metadata": {},
     "output_type": "execute_result"
    }
   ],
   "source": [
    "e[0]"
   ]
  },
  {
   "cell_type": "code",
   "execution_count": 42,
   "id": "432095a2",
   "metadata": {},
   "outputs": [
    {
     "data": {
      "text/plain": [
       "3"
      ]
     },
     "execution_count": 42,
     "metadata": {},
     "output_type": "execute_result"
    }
   ],
   "source": [
    "e[2]"
   ]
  },
  {
   "cell_type": "code",
   "execution_count": 43,
   "id": "07095e6c",
   "metadata": {},
   "outputs": [
    {
     "data": {
      "text/plain": [
       "4"
      ]
     },
     "execution_count": 43,
     "metadata": {},
     "output_type": "execute_result"
    }
   ],
   "source": [
    "e[0]+e[2]"
   ]
  },
  {
   "cell_type": "code",
   "execution_count": 44,
   "id": "3e05d539",
   "metadata": {},
   "outputs": [],
   "source": [
    "g = [4, 5, 6]"
   ]
  },
  {
   "cell_type": "code",
   "execution_count": 45,
   "id": "84740ea3",
   "metadata": {},
   "outputs": [
    {
     "data": {
      "text/plain": [
       "[1, 2, 3, ['dog', 'cat'], 4, 5, 6]"
      ]
     },
     "execution_count": 45,
     "metadata": {},
     "output_type": "execute_result"
    }
   ],
   "source": [
    "e+g"
   ]
  },
  {
   "cell_type": "code",
   "execution_count": 46,
   "id": "78d93cbb",
   "metadata": {},
   "outputs": [
    {
     "data": {
      "text/plain": [
       "[4, 5, 6, 1, 2, 3, ['dog', 'cat']]"
      ]
     },
     "execution_count": 46,
     "metadata": {},
     "output_type": "execute_result"
    }
   ],
   "source": [
    "g+e"
   ]
  },
  {
   "cell_type": "code",
   "execution_count": 49,
   "id": "90e8a212",
   "metadata": {},
   "outputs": [
    {
     "data": {
      "text/plain": [
       "[1, 2, 3, ['dog', 'cat']]"
      ]
     },
     "execution_count": 49,
     "metadata": {},
     "output_type": "execute_result"
    }
   ],
   "source": [
    "e"
   ]
  },
  {
   "cell_type": "code",
   "execution_count": 50,
   "id": "80ac7d1e",
   "metadata": {},
   "outputs": [],
   "source": [
    "e.append(4)"
   ]
  },
  {
   "cell_type": "code",
   "execution_count": 51,
   "id": "0142d950",
   "metadata": {},
   "outputs": [
    {
     "data": {
      "text/plain": [
       "[1, 2, 3, ['dog', 'cat'], 4]"
      ]
     },
     "execution_count": 51,
     "metadata": {},
     "output_type": "execute_result"
    }
   ],
   "source": [
    "e"
   ]
  },
  {
   "cell_type": "code",
   "execution_count": 52,
   "id": "ed03bb2f",
   "metadata": {},
   "outputs": [],
   "source": [
    "g.append('7')"
   ]
  },
  {
   "cell_type": "code",
   "execution_count": 53,
   "id": "9286b6e0",
   "metadata": {},
   "outputs": [
    {
     "data": {
      "text/plain": [
       "[4, 5, 6, '7']"
      ]
     },
     "execution_count": 53,
     "metadata": {},
     "output_type": "execute_result"
    }
   ],
   "source": [
    "g"
   ]
  },
  {
   "cell_type": "code",
   "execution_count": 123,
   "id": "0792bf3e",
   "metadata": {},
   "outputs": [],
   "source": [
    "a = 'apple'"
   ]
  },
  {
   "cell_type": "code",
   "execution_count": 124,
   "id": "806b69e4",
   "metadata": {},
   "outputs": [
    {
     "data": {
      "text/plain": [
       "'appleappleapple'"
      ]
     },
     "execution_count": 124,
     "metadata": {},
     "output_type": "execute_result"
    }
   ],
   "source": [
    "a * 3"
   ]
  },
  {
   "cell_type": "code",
   "execution_count": 54,
   "id": "f4a97368",
   "metadata": {},
   "outputs": [
    {
     "data": {
      "text/plain": [
       "[1, 2, 3, ['dog', 'cat'], 4]"
      ]
     },
     "execution_count": 54,
     "metadata": {},
     "output_type": "execute_result"
    }
   ],
   "source": [
    "e"
   ]
  },
  {
   "cell_type": "code",
   "execution_count": 55,
   "id": "177dbec8",
   "metadata": {},
   "outputs": [
    {
     "data": {
      "text/plain": [
       "[1, 2, 3, ['dog', 'cat'], 4, 1, 2, 3, ['dog', 'cat'], 4]"
      ]
     },
     "execution_count": 55,
     "metadata": {},
     "output_type": "execute_result"
    }
   ],
   "source": [
    "e * 2"
   ]
  },
  {
   "cell_type": "code",
   "execution_count": 56,
   "id": "db4c9e89",
   "metadata": {},
   "outputs": [
    {
     "ename": "TypeError",
     "evalue": "can only concatenate list (not \"str\") to list",
     "output_type": "error",
     "traceback": [
      "\u001b[1;31m---------------------------------------------------------------------------\u001b[0m",
      "\u001b[1;31mTypeError\u001b[0m                                 Traceback (most recent call last)",
      "\u001b[1;32m~\\AppData\\Local\\Temp/ipykernel_6572/2704790363.py\u001b[0m in \u001b[0;36m<module>\u001b[1;34m\u001b[0m\n\u001b[1;32m----> 1\u001b[1;33m \u001b[0mg\u001b[0m\u001b[1;33m+\u001b[0m\u001b[1;34m'apple'\u001b[0m\u001b[1;33m\u001b[0m\u001b[1;33m\u001b[0m\u001b[0m\n\u001b[0m",
      "\u001b[1;31mTypeError\u001b[0m: can only concatenate list (not \"str\") to list"
     ]
    }
   ],
   "source": [
    "g+'apple'"
   ]
  },
  {
   "cell_type": "code",
   "execution_count": 58,
   "id": "b7fb920a",
   "metadata": {},
   "outputs": [
    {
     "data": {
      "text/plain": [
       "[4, 5, 6, '7', 'apple']"
      ]
     },
     "execution_count": 58,
     "metadata": {},
     "output_type": "execute_result"
    }
   ],
   "source": [
    "g+['apple']"
   ]
  },
  {
   "cell_type": "code",
   "execution_count": 59,
   "id": "0b994e3c",
   "metadata": {},
   "outputs": [],
   "source": [
    "g.append('apple')"
   ]
  },
  {
   "cell_type": "code",
   "execution_count": 60,
   "id": "354cd45e",
   "metadata": {},
   "outputs": [
    {
     "data": {
      "text/plain": [
       "[4, 5, 6, '7', 'apple']"
      ]
     },
     "execution_count": 60,
     "metadata": {},
     "output_type": "execute_result"
    }
   ],
   "source": [
    "g"
   ]
  },
  {
   "cell_type": "markdown",
   "id": "85657a1c",
   "metadata": {},
   "source": [
    "## 2023-03-30"
   ]
  },
  {
   "cell_type": "code",
   "execution_count": 144,
   "id": "9d7a51c1",
   "metadata": {},
   "outputs": [],
   "source": [
    "a = ['shark', 'dog', 'hamster']"
   ]
  },
  {
   "cell_type": "code",
   "execution_count": 145,
   "id": "977adbbc",
   "metadata": {},
   "outputs": [],
   "source": [
    "del a[:1]"
   ]
  },
  {
   "cell_type": "code",
   "execution_count": null,
   "id": "bff6ee57",
   "metadata": {},
   "outputs": [],
   "source": []
  },
  {
   "cell_type": "code",
   "execution_count": 146,
   "id": "962d0929",
   "metadata": {},
   "outputs": [
    {
     "data": {
      "text/plain": [
       "['dog', 'hamster']"
      ]
     },
     "execution_count": 146,
     "metadata": {},
     "output_type": "execute_result"
    }
   ],
   "source": [
    "a"
   ]
  },
  {
   "cell_type": "code",
   "execution_count": 132,
   "id": "4f9298e9",
   "metadata": {},
   "outputs": [],
   "source": [
    "a[0] = 'cat'"
   ]
  },
  {
   "cell_type": "code",
   "execution_count": 133,
   "id": "91894113",
   "metadata": {},
   "outputs": [
    {
     "data": {
      "text/plain": [
       "['cat', 'dog', 'hamster']"
      ]
     },
     "execution_count": 133,
     "metadata": {},
     "output_type": "execute_result"
    }
   ],
   "source": [
    "a"
   ]
  },
  {
   "cell_type": "code",
   "execution_count": 165,
   "id": "7cd9f741",
   "metadata": {},
   "outputs": [],
   "source": [
    "a = [1, 9, 7, 3]"
   ]
  },
  {
   "cell_type": "code",
   "execution_count": 166,
   "id": "364a4098",
   "metadata": {},
   "outputs": [],
   "source": [
    "a.sort()"
   ]
  },
  {
   "cell_type": "code",
   "execution_count": 167,
   "id": "27c1d942",
   "metadata": {},
   "outputs": [],
   "source": [
    "a.reverse()"
   ]
  },
  {
   "cell_type": "code",
   "execution_count": 168,
   "id": "530f9f95",
   "metadata": {},
   "outputs": [
    {
     "data": {
      "text/plain": [
       "[9, 7, 3, 1]"
      ]
     },
     "execution_count": 168,
     "metadata": {},
     "output_type": "execute_result"
    }
   ],
   "source": [
    "a"
   ]
  },
  {
   "cell_type": "code",
   "execution_count": null,
   "id": "6b2170ec",
   "metadata": {},
   "outputs": [],
   "source": []
  },
  {
   "cell_type": "code",
   "execution_count": null,
   "id": "2908724e",
   "metadata": {},
   "outputs": [],
   "source": []
  },
  {
   "cell_type": "code",
   "execution_count": 155,
   "id": "a94d986e",
   "metadata": {},
   "outputs": [],
   "source": [
    "alphabet.reverse()"
   ]
  },
  {
   "cell_type": "code",
   "execution_count": 156,
   "id": "948c6bc3",
   "metadata": {},
   "outputs": [
    {
     "data": {
      "text/plain": [
       "['b', 'a', 'c']"
      ]
     },
     "execution_count": 156,
     "metadata": {},
     "output_type": "execute_result"
    }
   ],
   "source": [
    "alphabet"
   ]
  },
  {
   "cell_type": "code",
   "execution_count": 151,
   "id": "faf328c8",
   "metadata": {},
   "outputs": [],
   "source": [
    "alphabet.sort()"
   ]
  },
  {
   "cell_type": "code",
   "execution_count": 153,
   "id": "522b0544",
   "metadata": {},
   "outputs": [
    {
     "data": {
      "text/plain": [
       "['a', 'b', 'c']"
      ]
     },
     "execution_count": 153,
     "metadata": {},
     "output_type": "execute_result"
    }
   ],
   "source": [
    "alphabet"
   ]
  },
  {
   "cell_type": "code",
   "execution_count": null,
   "id": "1ee6bd7a",
   "metadata": {},
   "outputs": [],
   "source": [
    "a = []"
   ]
  },
  {
   "cell_type": "code",
   "execution_count": null,
   "id": "729d20e0",
   "metadata": {},
   "outputs": [],
   "source": []
  },
  {
   "cell_type": "code",
   "execution_count": 169,
   "id": "68f757a1",
   "metadata": {},
   "outputs": [],
   "source": [
    "alphabet = ['c', 'a', 'b']"
   ]
  },
  {
   "cell_type": "code",
   "execution_count": 171,
   "id": "b3007663",
   "metadata": {},
   "outputs": [
    {
     "data": {
      "text/plain": [
       "2"
      ]
     },
     "execution_count": 171,
     "metadata": {},
     "output_type": "execute_result"
    }
   ],
   "source": [
    "alphabet.index('b')"
   ]
  },
  {
   "cell_type": "code",
   "execution_count": 172,
   "id": "4e7ac6fe",
   "metadata": {},
   "outputs": [
    {
     "data": {
      "text/plain": [
       "0"
      ]
     },
     "execution_count": 172,
     "metadata": {},
     "output_type": "execute_result"
    }
   ],
   "source": [
    "alphabet.index('c')"
   ]
  },
  {
   "cell_type": "code",
   "execution_count": 173,
   "id": "501d6c79",
   "metadata": {},
   "outputs": [
    {
     "ename": "ValueError",
     "evalue": "'d' is not in list",
     "output_type": "error",
     "traceback": [
      "\u001b[1;31m---------------------------------------------------------------------------\u001b[0m",
      "\u001b[1;31mValueError\u001b[0m                                Traceback (most recent call last)",
      "\u001b[1;32m~\\AppData\\Local\\Temp/ipykernel_31272/2341302141.py\u001b[0m in \u001b[0;36m<module>\u001b[1;34m\u001b[0m\n\u001b[1;32m----> 1\u001b[1;33m \u001b[0malphabet\u001b[0m\u001b[1;33m.\u001b[0m\u001b[0mindex\u001b[0m\u001b[1;33m(\u001b[0m\u001b[1;34m'd'\u001b[0m\u001b[1;33m)\u001b[0m\u001b[1;33m\u001b[0m\u001b[1;33m\u001b[0m\u001b[0m\n\u001b[0m",
      "\u001b[1;31mValueError\u001b[0m: 'd' is not in list"
     ]
    }
   ],
   "source": [
    "alphabet.index('d')"
   ]
  },
  {
   "cell_type": "code",
   "execution_count": 174,
   "id": "390d777c",
   "metadata": {},
   "outputs": [],
   "source": [
    "numbers = [1, 2, 4, 5]"
   ]
  },
  {
   "cell_type": "code",
   "execution_count": 175,
   "id": "8ee51987",
   "metadata": {},
   "outputs": [],
   "source": [
    "numbers.insert(2, 3)"
   ]
  },
  {
   "cell_type": "code",
   "execution_count": 177,
   "id": "c0099c4a",
   "metadata": {},
   "outputs": [
    {
     "data": {
      "text/plain": [
       "[1, 2, 3, 4, 5]"
      ]
     },
     "execution_count": 177,
     "metadata": {},
     "output_type": "execute_result"
    }
   ],
   "source": [
    "numbers"
   ]
  },
  {
   "cell_type": "code",
   "execution_count": 178,
   "id": "9e9d346e",
   "metadata": {},
   "outputs": [],
   "source": [
    "numbers.remove(4)"
   ]
  },
  {
   "cell_type": "code",
   "execution_count": 179,
   "id": "06b6478e",
   "metadata": {},
   "outputs": [
    {
     "data": {
      "text/plain": [
       "[1, 2, 3, 5]"
      ]
     },
     "execution_count": 179,
     "metadata": {},
     "output_type": "execute_result"
    }
   ],
   "source": [
    "numbers"
   ]
  },
  {
   "cell_type": "code",
   "execution_count": 180,
   "id": "2747f791",
   "metadata": {},
   "outputs": [],
   "source": [
    "numbers = [1, 2, 3]"
   ]
  },
  {
   "cell_type": "code",
   "execution_count": 181,
   "id": "7220514a",
   "metadata": {},
   "outputs": [],
   "source": [
    "many_numbers = numbers * 2"
   ]
  },
  {
   "cell_type": "code",
   "execution_count": 182,
   "id": "c9a8d3a6",
   "metadata": {},
   "outputs": [
    {
     "data": {
      "text/plain": [
       "[1, 2, 3, 1, 2, 3]"
      ]
     },
     "execution_count": 182,
     "metadata": {},
     "output_type": "execute_result"
    }
   ],
   "source": [
    "many_numbers "
   ]
  },
  {
   "cell_type": "code",
   "execution_count": 185,
   "id": "ef722d30",
   "metadata": {},
   "outputs": [],
   "source": [
    "many_numbers.remove(3)"
   ]
  },
  {
   "cell_type": "code",
   "execution_count": 187,
   "id": "b2c613b2",
   "metadata": {},
   "outputs": [
    {
     "data": {
      "text/plain": [
       "[1, 2, 1, 2]"
      ]
     },
     "execution_count": 187,
     "metadata": {},
     "output_type": "execute_result"
    }
   ],
   "source": [
    "many_numbers "
   ]
  },
  {
   "cell_type": "code",
   "execution_count": 188,
   "id": "ce2acfa3",
   "metadata": {},
   "outputs": [],
   "source": [
    "numbers2 = [1, 2, 5, 7]"
   ]
  },
  {
   "cell_type": "code",
   "execution_count": 189,
   "id": "9e7d3943",
   "metadata": {},
   "outputs": [
    {
     "data": {
      "text/plain": [
       "7"
      ]
     },
     "execution_count": 189,
     "metadata": {},
     "output_type": "execute_result"
    }
   ],
   "source": [
    "numbers2.pop()"
   ]
  },
  {
   "cell_type": "code",
   "execution_count": 191,
   "id": "e2754e7e",
   "metadata": {},
   "outputs": [
    {
     "data": {
      "text/plain": [
       "[1, 2, 5]"
      ]
     },
     "execution_count": 191,
     "metadata": {},
     "output_type": "execute_result"
    }
   ],
   "source": [
    "numbers2 "
   ]
  },
  {
   "cell_type": "code",
   "execution_count": 192,
   "id": "b9b49c09",
   "metadata": {},
   "outputs": [
    {
     "data": {
      "text/plain": [
       "2"
      ]
     },
     "execution_count": 192,
     "metadata": {},
     "output_type": "execute_result"
    }
   ],
   "source": [
    "numbers2.pop(1)"
   ]
  },
  {
   "cell_type": "code",
   "execution_count": 193,
   "id": "326a2f6c",
   "metadata": {},
   "outputs": [
    {
     "data": {
      "text/plain": [
       "[1, 5]"
      ]
     },
     "execution_count": 193,
     "metadata": {},
     "output_type": "execute_result"
    }
   ],
   "source": [
    "numbers2 "
   ]
  },
  {
   "cell_type": "code",
   "execution_count": 194,
   "id": "fb5ba6b6",
   "metadata": {},
   "outputs": [],
   "source": [
    "a = \"welshcorgi\""
   ]
  },
  {
   "cell_type": "code",
   "execution_count": 195,
   "id": "3b1374a3",
   "metadata": {},
   "outputs": [
    {
     "data": {
      "text/plain": [
       "1"
      ]
     },
     "execution_count": 195,
     "metadata": {},
     "output_type": "execute_result"
    }
   ],
   "source": [
    "a.count('l')"
   ]
  },
  {
   "cell_type": "code",
   "execution_count": 197,
   "id": "80c3a93d",
   "metadata": {},
   "outputs": [],
   "source": [
    "a = ['welshcorgi', 'poodle', 'maltese', 'poodle']"
   ]
  },
  {
   "cell_type": "code",
   "execution_count": 198,
   "id": "21ed3706",
   "metadata": {},
   "outputs": [
    {
     "data": {
      "text/plain": [
       "2"
      ]
     },
     "execution_count": 198,
     "metadata": {},
     "output_type": "execute_result"
    }
   ],
   "source": [
    "a.count('poodle')"
   ]
  },
  {
   "cell_type": "code",
   "execution_count": 199,
   "id": "43a577b1",
   "metadata": {},
   "outputs": [],
   "source": [
    "a = [1, 2, 3]\n",
    "b = [4, 5, 6]"
   ]
  },
  {
   "cell_type": "code",
   "execution_count": 200,
   "id": "79b18695",
   "metadata": {},
   "outputs": [
    {
     "data": {
      "text/plain": [
       "[1, 2, 3, 4, 5, 6]"
      ]
     },
     "execution_count": 200,
     "metadata": {},
     "output_type": "execute_result"
    }
   ],
   "source": [
    "a+b"
   ]
  },
  {
   "cell_type": "code",
   "execution_count": 201,
   "id": "f08bebd9",
   "metadata": {},
   "outputs": [],
   "source": [
    "a.extend(b)"
   ]
  },
  {
   "cell_type": "code",
   "execution_count": 202,
   "id": "06b2c1d3",
   "metadata": {},
   "outputs": [
    {
     "data": {
      "text/plain": [
       "[1, 2, 3, 4, 5, 6]"
      ]
     },
     "execution_count": 202,
     "metadata": {},
     "output_type": "execute_result"
    }
   ],
   "source": [
    "a"
   ]
  },
  {
   "cell_type": "code",
   "execution_count": null,
   "id": "1f6ab493",
   "metadata": {},
   "outputs": [],
   "source": []
  }
 ],
 "metadata": {
  "kernelspec": {
   "display_name": "Python 3 (ipykernel)",
   "language": "python",
   "name": "python3"
  },
  "language_info": {
   "codemirror_mode": {
    "name": "ipython",
    "version": 3
   },
   "file_extension": ".py",
   "mimetype": "text/x-python",
   "name": "python",
   "nbconvert_exporter": "python",
   "pygments_lexer": "ipython3",
   "version": "3.11.2"
  }
 },
 "nbformat": 4,
 "nbformat_minor": 5
}
