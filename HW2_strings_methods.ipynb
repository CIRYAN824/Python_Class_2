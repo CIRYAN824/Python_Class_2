{
 "cells": [
  {
   "cell_type": "markdown",
   "metadata": {
    "id": "pqHu87CyL1zr"
   },
   "source": [
    "**문제1) 다음 문제에 답하여라.**   \n",
    "\n",
    "`colors = 'red blue yellow'`  \n",
    "\n",
    "1) `colors`에서 `b`를 추출하는 코드를 작성하라."
   ]
  },
  {
   "cell_type": "code",
   "execution_count": 10,
   "metadata": {},
   "outputs": [
    {
     "data": {
      "text/plain": [
       "'b'"
      ]
     },
     "execution_count": 10,
     "metadata": {},
     "output_type": "execute_result"
    }
   ],
   "source": [
    "colors = 'red blue yellow'\n",
    "\n",
    "colors[4:5]"
   ]
  },
  {
   "cell_type": "markdown",
   "metadata": {
    "id": "hDBO0Lu2NzWK"
   },
   "source": [
    "2) `colors`에서 `low`를 추출하는 코드를 작성하라."
   ]
  },
  {
   "cell_type": "code",
   "execution_count": 12,
   "metadata": {},
   "outputs": [
    {
     "data": {
      "text/plain": [
       "'low'"
      ]
     },
     "execution_count": 12,
     "metadata": {},
     "output_type": "execute_result"
    }
   ],
   "source": [
    "colors = 'red blue yellow'\n",
    "\n",
    "colors[12:15]"
   ]
  },
  {
   "cell_type": "markdown",
   "metadata": {},
   "source": [
    "**문제2) 과일 목록을 할당받는 fruit 변수가 아래와 같이 선언되었다.**\n",
    "\n",
    "`fruit = \"banana apple orange pineapple mango strawberry cherry\"`\n",
    "\n",
    "1) 각 과일 단어를 모두 대문자로 변경하려면 어떻게 해야 하는가?"
   ]
  },
  {
   "cell_type": "code",
   "execution_count": 13,
   "metadata": {},
   "outputs": [
    {
     "data": {
      "text/plain": [
       "'BANANA APPLE ORANGE PINEAPPLE MANGO STRAWBERRY CHERRY'"
      ]
     },
     "execution_count": 13,
     "metadata": {},
     "output_type": "execute_result"
    }
   ],
   "source": [
    "fruit = \"banana apple orange pineapple mango strawberry cherry\"\n",
    "\n",
    "fruit.upper()"
   ]
  },
  {
   "cell_type": "markdown",
   "metadata": {},
   "source": [
    "2) `fruit` 변수로부터 대문자 Y를 추출하는 코드를 작성하여라."
   ]
  },
  {
   "cell_type": "code",
   "execution_count": 19,
   "metadata": {},
   "outputs": [
    {
     "data": {
      "text/plain": [
       "'Y'"
      ]
     },
     "execution_count": 19,
     "metadata": {},
     "output_type": "execute_result"
    }
   ],
   "source": [
    "fruit = \"banana apple orange pineapple mango strawberry cherry\"\n",
    "\n",
    "a = fruit.upper() \n",
    "\n",
    "a[-1:]"
   ]
  },
  {
   "cell_type": "markdown",
   "metadata": {},
   "source": [
    "**문제3) 아래와 같이 선언된 lyrics변수가 있다.**\n",
    "\n",
    "`lyrics = \" When you're smiling, the whole world smiles with you \"`\n",
    "\n",
    "아래의 문제에 답하여라. 단, 특정 메소드들을 사용하여 한 줄 코드로 작성해야 한다.\n",
    "\n",
    "1) 위 문자열 양 끝에 있는 스페이스를 삭제하고, 모든 문자는 대문자로 변환시킨다."
   ]
  },
  {
   "cell_type": "code",
   "execution_count": 20,
   "metadata": {},
   "outputs": [
    {
     "data": {
      "text/plain": [
       "\"WHEN YOU'RE SMILING, THE WHOLE WORLD SMILES WITH YOU\""
      ]
     },
     "execution_count": 20,
     "metadata": {},
     "output_type": "execute_result"
    }
   ],
   "source": [
    "lyrics = \" When you're smiling, the whole world smiles with you \"\n",
    "\n",
    "a = lyrics.upper()\n",
    "\n",
    "a[1:-1]"
   ]
  },
  {
   "cell_type": "markdown",
   "metadata": {},
   "source": [
    "2) 위 문자열 양 끝에 있는 스페이스를 삭제하고, When you're smiling은 When you are smiling으로 변경하여라."
   ]
  },
  {
   "cell_type": "code",
   "execution_count": 41,
   "metadata": {},
   "outputs": [
    {
     "data": {
      "text/plain": [
       "' WHEN YOU ARE SMILING, THE WHOLE WORLD SMILES WITH YOU '"
      ]
     },
     "execution_count": 41,
     "metadata": {},
     "output_type": "execute_result"
    }
   ],
   "source": [
    "lyrics = \" When you're smiling, the whole world smiles with you \"\n",
    "\n",
    "a = lyrics.upper()\n",
    "\n",
    "a.replace(\"YOU'RE\", \"YOU ARE\")"
   ]
  },
  {
   "cell_type": "markdown",
   "metadata": {},
   "source": [
    "3) 아래와 같은 결과를 출력하는 코드를 작성하여라.\n",
    "\n",
    "`[\"when\", \"you're\", \"smiling,\", \"the\", \"whole\", \"world\", \"smiles\", \"with\", \"you\"]`"
   ]
  },
  {
   "cell_type": "code",
   "execution_count": 55,
   "metadata": {
    "scrolled": true
   },
   "outputs": [
    {
     "name": "stdout",
     "output_type": "stream",
     "text": [
      "['when', \"you're\", 'smiling,', 'the', 'whole', 'world', 'smiles', 'with', 'you']\n"
     ]
    }
   ],
   "source": [
    "lyrics = \" When you're smiling, the whole world smiles with you \"\n",
    "\n",
    "a = lyrics.lower()\n",
    "\n",
    "b = a[1:-1]\n",
    "print(b.split(' '))"
   ]
  },
  {
   "cell_type": "markdown",
   "metadata": {},
   "source": [
    "**문제4) 아래 문자열**\n",
    "\n",
    "`'n o r t h w e s t e r n'`\n",
    "\n",
    "**을 이용하여 아래 문자열을 생성하는 코드를 구현하라.**\n",
    "\n",
    "`'Northwestern'`"
   ]
  },
  {
   "cell_type": "code",
   "execution_count": 56,
   "metadata": {},
   "outputs": [
    {
     "data": {
      "text/plain": [
       "'Northwestern'"
      ]
     },
     "execution_count": 56,
     "metadata": {},
     "output_type": "execute_result"
    }
   ],
   "source": [
    "a = 'n o r t h w e s t e r n'\n",
    "\n",
    "e = a.upper()\n",
    "\n",
    "c = a.replace(' ', '')\n",
    "\n",
    "d = c.capitalize()\n",
    "\n",
    "d"
   ]
  },
  {
   "cell_type": "code",
   "execution_count": null,
   "metadata": {},
   "outputs": [],
   "source": []
  }
 ],
 "metadata": {
  "colab": {
   "provenance": []
  },
  "kernelspec": {
   "display_name": "Python 3 (ipykernel)",
   "language": "python",
   "name": "python3"
  },
  "language_info": {
   "codemirror_mode": {
    "name": "ipython",
    "version": 3
   },
   "file_extension": ".py",
   "mimetype": "text/x-python",
   "name": "python",
   "nbconvert_exporter": "python",
   "pygments_lexer": "ipython3",
   "version": "3.11.2"
  }
 },
 "nbformat": 4,
 "nbformat_minor": 1
}
