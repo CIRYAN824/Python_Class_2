{
 "cells": [
  {
   "cell_type": "code",
   "execution_count": 1,
   "id": "c9572e62",
   "metadata": {},
   "outputs": [
    {
     "name": "stdout",
     "output_type": "stream",
     "text": [
      "Hello World\n"
     ]
    }
   ],
   "source": [
    "print(\"Hello World\")"
   ]
  },
  {
   "cell_type": "code",
   "execution_count": 4,
   "id": "40fde049",
   "metadata": {},
   "outputs": [
    {
     "data": {
      "text/plain": [
       "int"
      ]
     },
     "execution_count": 4,
     "metadata": {},
     "output_type": "execute_result"
    }
   ],
   "source": [
    "type(3)"
   ]
  },
  {
   "cell_type": "code",
   "execution_count": 5,
   "id": "e5cc6ec0",
   "metadata": {},
   "outputs": [
    {
     "data": {
      "text/plain": [
       "float"
      ]
     },
     "execution_count": 5,
     "metadata": {},
     "output_type": "execute_result"
    }
   ],
   "source": [
    "type(3.0)"
   ]
  },
  {
   "cell_type": "code",
   "execution_count": 6,
   "id": "871136f0",
   "metadata": {},
   "outputs": [
    {
     "data": {
      "text/plain": [
       "7"
      ]
     },
     "execution_count": 6,
     "metadata": {},
     "output_type": "execute_result"
    }
   ],
   "source": [
    "3+4"
   ]
  },
  {
   "cell_type": "code",
   "execution_count": 7,
   "id": "7a5bb05a",
   "metadata": {},
   "outputs": [
    {
     "data": {
      "text/plain": [
       "81"
      ]
     },
     "execution_count": 7,
     "metadata": {},
     "output_type": "execute_result"
    }
   ],
   "source": [
    "3**4"
   ]
  },
  {
   "cell_type": "code",
   "execution_count": 8,
   "id": "429d7a1d",
   "metadata": {},
   "outputs": [
    {
     "data": {
      "text/plain": [
       "-1"
      ]
     },
     "execution_count": 8,
     "metadata": {},
     "output_type": "execute_result"
    }
   ],
   "source": [
    "3-4"
   ]
  },
  {
   "cell_type": "code",
   "execution_count": 9,
   "id": "e212c2c3",
   "metadata": {},
   "outputs": [
    {
     "data": {
      "text/plain": [
       "12"
      ]
     },
     "execution_count": 9,
     "metadata": {},
     "output_type": "execute_result"
    }
   ],
   "source": [
    "3*4"
   ]
  },
  {
   "cell_type": "code",
   "execution_count": 10,
   "id": "0522056a",
   "metadata": {},
   "outputs": [
    {
     "data": {
      "text/plain": [
       "0.75"
      ]
     },
     "execution_count": 10,
     "metadata": {},
     "output_type": "execute_result"
    }
   ],
   "source": [
    "3/4"
   ]
  },
  {
   "cell_type": "code",
   "execution_count": 11,
   "id": "daa231d7",
   "metadata": {},
   "outputs": [
    {
     "data": {
      "text/plain": [
       "0"
      ]
     },
     "execution_count": 11,
     "metadata": {},
     "output_type": "execute_result"
    }
   ],
   "source": [
    "3//4"
   ]
  },
  {
   "cell_type": "code",
   "execution_count": 12,
   "id": "8dd52292",
   "metadata": {},
   "outputs": [
    {
     "data": {
      "text/plain": [
       "12.0"
      ]
     },
     "execution_count": 12,
     "metadata": {},
     "output_type": "execute_result"
    }
   ],
   "source": [
    "3.0*4.0"
   ]
  },
  {
   "cell_type": "code",
   "execution_count": 13,
   "id": "3b99cc8e",
   "metadata": {},
   "outputs": [
    {
     "data": {
      "text/plain": [
       "12.0"
      ]
     },
     "execution_count": 13,
     "metadata": {},
     "output_type": "execute_result"
    }
   ],
   "source": [
    "3.00*4"
   ]
  },
  {
   "cell_type": "code",
   "execution_count": 14,
   "id": "9e98fa37",
   "metadata": {},
   "outputs": [
    {
     "data": {
      "text/plain": [
       "1"
      ]
     },
     "execution_count": 14,
     "metadata": {},
     "output_type": "execute_result"
    }
   ],
   "source": [
    "5//4"
   ]
  },
  {
   "cell_type": "code",
   "execution_count": 15,
   "id": "f607032f",
   "metadata": {},
   "outputs": [
    {
     "data": {
      "text/plain": [
       "2"
      ]
     },
     "execution_count": 15,
     "metadata": {},
     "output_type": "execute_result"
    }
   ],
   "source": [
    "9//4"
   ]
  },
  {
   "cell_type": "code",
   "execution_count": 17,
   "id": "ca20e175",
   "metadata": {},
   "outputs": [
    {
     "data": {
      "text/plain": [
       "4"
      ]
     },
     "execution_count": 17,
     "metadata": {},
     "output_type": "execute_result"
    }
   ],
   "source": [
    "9%5"
   ]
  },
  {
   "cell_type": "code",
   "execution_count": 18,
   "id": "9edcb95a",
   "metadata": {},
   "outputs": [
    {
     "data": {
      "text/plain": [
       "1"
      ]
     },
     "execution_count": 18,
     "metadata": {},
     "output_type": "execute_result"
    }
   ],
   "source": [
    "int(9/5)"
   ]
  },
  {
   "cell_type": "code",
   "execution_count": 19,
   "id": "4462c412",
   "metadata": {},
   "outputs": [
    {
     "data": {
      "text/plain": [
       "1"
      ]
     },
     "execution_count": 19,
     "metadata": {},
     "output_type": "execute_result"
    }
   ],
   "source": [
    "int(1.8)"
   ]
  },
  {
   "cell_type": "code",
   "execution_count": 20,
   "id": "fe4e714b",
   "metadata": {},
   "outputs": [
    {
     "data": {
      "text/plain": [
       "1.0"
      ]
     },
     "execution_count": 20,
     "metadata": {},
     "output_type": "execute_result"
    }
   ],
   "source": [
    "float(1)"
   ]
  },
  {
   "cell_type": "code",
   "execution_count": 21,
   "id": "dd134b55",
   "metadata": {},
   "outputs": [
    {
     "data": {
      "text/plain": [
       "'python'"
      ]
     },
     "execution_count": 21,
     "metadata": {},
     "output_type": "execute_result"
    }
   ],
   "source": [
    "\"python\""
   ]
  },
  {
   "cell_type": "code",
   "execution_count": 22,
   "id": "76c1f15d",
   "metadata": {},
   "outputs": [
    {
     "data": {
      "text/plain": [
       "'python'"
      ]
     },
     "execution_count": 22,
     "metadata": {},
     "output_type": "execute_result"
    }
   ],
   "source": [
    "'python'"
   ]
  },
  {
   "cell_type": "code",
   "execution_count": 23,
   "id": "d62667f8",
   "metadata": {},
   "outputs": [
    {
     "ename": "SyntaxError",
     "evalue": "unterminated string literal (detected at line 1) (255721797.py, line 1)",
     "output_type": "error",
     "traceback": [
      "\u001b[0;36m  Cell \u001b[0;32mIn[23], line 1\u001b[0;36m\u001b[0m\n\u001b[0;31m    \"python'\u001b[0m\n\u001b[0m    ^\u001b[0m\n\u001b[0;31mSyntaxError\u001b[0m\u001b[0;31m:\u001b[0m unterminated string literal (detected at line 1)\n"
     ]
    }
   ],
   "source": [
    "\"python'"
   ]
  },
  {
   "cell_type": "code",
   "execution_count": 24,
   "id": "2edc053c",
   "metadata": {},
   "outputs": [
    {
     "data": {
      "text/plain": [
       "\"python's favorite food is coding\""
      ]
     },
     "execution_count": 24,
     "metadata": {},
     "output_type": "execute_result"
    }
   ],
   "source": [
    "\"python's favorite food is coding\""
   ]
  },
  {
   "cell_type": "code",
   "execution_count": 25,
   "id": "1074f222",
   "metadata": {},
   "outputs": [
    {
     "ename": "NameError",
     "evalue": "name 'python' is not defined",
     "output_type": "error",
     "traceback": [
      "\u001b[0;31m---------------------------------------------------------------------------\u001b[0m",
      "\u001b[0;31mNameError\u001b[0m                                 Traceback (most recent call last)",
      "Cell \u001b[0;32mIn[25], line 1\u001b[0m\n\u001b[0;32m----> 1\u001b[0m food \u001b[38;5;241m=\u001b[39m \u001b[43mpython\u001b[49m\n",
      "\u001b[0;31mNameError\u001b[0m: name 'python' is not defined"
     ]
    }
   ],
   "source": [
    "food = python"
   ]
  },
  {
   "cell_type": "code",
   "execution_count": 26,
   "id": "9a5c6505",
   "metadata": {},
   "outputs": [],
   "source": [
    "food = \"delicious python\""
   ]
  },
  {
   "cell_type": "code",
   "execution_count": 27,
   "id": "165fe93e",
   "metadata": {},
   "outputs": [
    {
     "data": {
      "text/plain": [
       "'delicious python'"
      ]
     },
     "execution_count": 27,
     "metadata": {},
     "output_type": "execute_result"
    }
   ],
   "source": [
    "food"
   ]
  },
  {
   "cell_type": "code",
   "execution_count": 28,
   "id": "809a448c",
   "metadata": {},
   "outputs": [
    {
     "ename": "SyntaxError",
     "evalue": "invalid syntax (3079489427.py, line 1)",
     "output_type": "error",
     "traceback": [
      "\u001b[0;36m  Cell \u001b[0;32mIn[28], line 1\u001b[0;36m\u001b[0m\n\u001b[0;31m    Life is too short\u001b[0m\n\u001b[0m                ^\u001b[0m\n\u001b[0;31mSyntaxError\u001b[0m\u001b[0;31m:\u001b[0m invalid syntax\n"
     ]
    }
   ],
   "source": [
    "Life is too short\n",
    "You need python"
   ]
  },
  {
   "cell_type": "code",
   "execution_count": 29,
   "id": "fa9bd6d4",
   "metadata": {},
   "outputs": [],
   "source": [
    "python = \"life is too short\\nYou need python\""
   ]
  },
  {
   "cell_type": "code",
   "execution_count": 31,
   "id": "b9a2a11b",
   "metadata": {
    "scrolled": true
   },
   "outputs": [
    {
     "name": "stdout",
     "output_type": "stream",
     "text": [
      "life is too short\n",
      "You need python\n"
     ]
    }
   ],
   "source": [
    "print(python)"
   ]
  },
  {
   "cell_type": "code",
   "execution_count": 33,
   "id": "dc5c283c",
   "metadata": {},
   "outputs": [
    {
     "data": {
      "text/plain": [
       "'python is fun'"
      ]
     },
     "execution_count": 33,
     "metadata": {},
     "output_type": "execute_result"
    }
   ],
   "source": [
    "head = \"python\"\n",
    "tail = \" is fun\"\n",
    "head+tail"
   ]
  },
  {
   "cell_type": "code",
   "execution_count": 37,
   "id": "8cf7a2cf",
   "metadata": {},
   "outputs": [
    {
     "data": {
      "text/plain": [
       "'python python python python python '"
      ]
     },
     "execution_count": 37,
     "metadata": {},
     "output_type": "execute_result"
    }
   ],
   "source": [
    "a = \"python \"\n",
    "a* 5"
   ]
  },
  {
   "cell_type": "code",
   "execution_count": 38,
   "id": "87d2d860",
   "metadata": {},
   "outputs": [
    {
     "data": {
      "text/plain": [
       "'pythonpythonpythonpythonpython'"
      ]
     },
     "execution_count": 38,
     "metadata": {},
     "output_type": "execute_result"
    }
   ],
   "source": [
    "'python'*5"
   ]
  },
  {
   "cell_type": "code",
   "execution_count": 39,
   "id": "9464f352",
   "metadata": {},
   "outputs": [
    {
     "data": {
      "text/plain": [
       "'python is fun'"
      ]
     },
     "execution_count": 39,
     "metadata": {},
     "output_type": "execute_result"
    }
   ],
   "source": [
    "'python'+\" is fun\""
   ]
  },
  {
   "cell_type": "code",
   "execution_count": 40,
   "id": "6b19d240",
   "metadata": {},
   "outputs": [
    {
     "ename": "TypeError",
     "evalue": "unsupported operand type(s) for -: 'str' and 'str'",
     "output_type": "error",
     "traceback": [
      "\u001b[0;31m---------------------------------------------------------------------------\u001b[0m",
      "\u001b[0;31mTypeError\u001b[0m                                 Traceback (most recent call last)",
      "Cell \u001b[0;32mIn[40], line 3\u001b[0m\n\u001b[1;32m      1\u001b[0m a \u001b[38;5;241m=\u001b[39m \u001b[38;5;124m'\u001b[39m\u001b[38;5;124mpython is fun\u001b[39m\u001b[38;5;124m'\u001b[39m\n\u001b[1;32m      2\u001b[0m b \u001b[38;5;241m=\u001b[39m \u001b[38;5;124m'\u001b[39m\u001b[38;5;124m is fun\u001b[39m\u001b[38;5;124m'\u001b[39m\n\u001b[0;32m----> 3\u001b[0m \u001b[43ma\u001b[49m\u001b[38;5;241;43m-\u001b[39;49m\u001b[43mb\u001b[49m\n",
      "\u001b[0;31mTypeError\u001b[0m: unsupported operand type(s) for -: 'str' and 'str'"
     ]
    }
   ],
   "source": [
    "a = 'python is fun'\n",
    "b = ' is fun'\n",
    "a-b"
   ]
  },
  {
   "cell_type": "code",
   "execution_count": 41,
   "id": "18064f70",
   "metadata": {},
   "outputs": [
    {
     "data": {
      "text/plain": [
       "5"
      ]
     },
     "execution_count": 41,
     "metadata": {},
     "output_type": "execute_result"
    }
   ],
   "source": [
    "len('apple')"
   ]
  },
  {
   "cell_type": "code",
   "execution_count": 42,
   "id": "dea8aede",
   "metadata": {},
   "outputs": [
    {
     "data": {
      "text/plain": [
       "'a'"
      ]
     },
     "execution_count": 42,
     "metadata": {},
     "output_type": "execute_result"
    }
   ],
   "source": [
    "a='apple'\n",
    "a[0]"
   ]
  },
  {
   "cell_type": "code",
   "execution_count": 43,
   "id": "74be3e2f",
   "metadata": {},
   "outputs": [
    {
     "data": {
      "text/plain": [
       "'e'"
      ]
     },
     "execution_count": 43,
     "metadata": {},
     "output_type": "execute_result"
    }
   ],
   "source": [
    "a[4]"
   ]
  },
  {
   "cell_type": "code",
   "execution_count": 44,
   "id": "f41e22ae",
   "metadata": {},
   "outputs": [
    {
     "data": {
      "text/plain": [
       "'e'"
      ]
     },
     "execution_count": 44,
     "metadata": {},
     "output_type": "execute_result"
    }
   ],
   "source": [
    "a[-1]"
   ]
  },
  {
   "cell_type": "code",
   "execution_count": 45,
   "id": "f1f5de48",
   "metadata": {},
   "outputs": [],
   "source": [
    "python = 'life is too short. You need python'"
   ]
  },
  {
   "cell_type": "code",
   "execution_count": 46,
   "id": "2529a41d",
   "metadata": {},
   "outputs": [
    {
     "data": {
      "text/plain": [
       "'life'"
      ]
     },
     "execution_count": 46,
     "metadata": {},
     "output_type": "execute_result"
    }
   ],
   "source": [
    "python[0]+python[1]+python[2]+python[3]"
   ]
  },
  {
   "cell_type": "code",
   "execution_count": 47,
   "id": "80f2c224",
   "metadata": {},
   "outputs": [
    {
     "data": {
      "text/plain": [
       "'lif'"
      ]
     },
     "execution_count": 47,
     "metadata": {},
     "output_type": "execute_result"
    }
   ],
   "source": [
    "python[0:3]"
   ]
  },
  {
   "cell_type": "code",
   "execution_count": 48,
   "id": "dc72df03",
   "metadata": {},
   "outputs": [
    {
     "data": {
      "text/plain": [
       "'life'"
      ]
     },
     "execution_count": 48,
     "metadata": {},
     "output_type": "execute_result"
    }
   ],
   "source": [
    "python[0:4]"
   ]
  },
  {
   "cell_type": "code",
   "execution_count": 49,
   "id": "b7729103",
   "metadata": {},
   "outputs": [
    {
     "data": {
      "text/plain": [
       "'is too short. You need python'"
      ]
     },
     "execution_count": 49,
     "metadata": {},
     "output_type": "execute_result"
    }
   ],
   "source": [
    "python[5:]"
   ]
  },
  {
   "cell_type": "code",
   "execution_count": 50,
   "id": "f59b344a",
   "metadata": {},
   "outputs": [
    {
     "data": {
      "text/plain": [
       "'life'"
      ]
     },
     "execution_count": 50,
     "metadata": {},
     "output_type": "execute_result"
    }
   ],
   "source": [
    "python[:4]"
   ]
  },
  {
   "cell_type": "code",
   "execution_count": 51,
   "id": "2415d975",
   "metadata": {},
   "outputs": [
    {
     "data": {
      "text/plain": [
       "'oo short. You need python'"
      ]
     },
     "execution_count": 51,
     "metadata": {},
     "output_type": "execute_result"
    }
   ],
   "source": [
    "python[9:]"
   ]
  },
  {
   "cell_type": "code",
   "execution_count": 52,
   "id": "7ecbc159",
   "metadata": {},
   "outputs": [
    {
     "data": {
      "text/plain": [
       "'You need python'"
      ]
     },
     "execution_count": 52,
     "metadata": {},
     "output_type": "execute_result"
    }
   ],
   "source": [
    "python[19:]"
   ]
  },
  {
   "cell_type": "code",
   "execution_count": 53,
   "id": "8f6cae99",
   "metadata": {},
   "outputs": [
    {
     "data": {
      "text/plain": [
       "'python'"
      ]
     },
     "execution_count": 53,
     "metadata": {},
     "output_type": "execute_result"
    }
   ],
   "source": [
    "python[28:]"
   ]
  },
  {
   "cell_type": "code",
   "execution_count": 54,
   "id": "75e795af",
   "metadata": {},
   "outputs": [],
   "source": [
    "a = \"pithon\""
   ]
  },
  {
   "cell_type": "code",
   "execution_count": 56,
   "id": "7cae6551",
   "metadata": {},
   "outputs": [
    {
     "ename": "TypeError",
     "evalue": "'str' object is not callable",
     "output_type": "error",
     "traceback": [
      "\u001b[0;31m---------------------------------------------------------------------------\u001b[0m",
      "\u001b[0;31mTypeError\u001b[0m                                 Traceback (most recent call last)",
      "Cell \u001b[0;32mIn[56], line 1\u001b[0m\n\u001b[0;32m----> 1\u001b[0m a \u001b[38;5;241m-\u001b[39m \u001b[43ma\u001b[49m\u001b[43m(\u001b[49m\u001b[38;5;241;43m1\u001b[39;49m\u001b[43m)\u001b[49m\n",
      "\u001b[0;31mTypeError\u001b[0m: 'str' object is not callable"
     ]
    }
   ],
   "source": [
    "a - a(1)"
   ]
  },
  {
   "cell_type": "code",
   "execution_count": 57,
   "id": "93d3175e",
   "metadata": {},
   "outputs": [
    {
     "ename": "TypeError",
     "evalue": "'str' object is not callable",
     "output_type": "error",
     "traceback": [
      "\u001b[0;31m---------------------------------------------------------------------------\u001b[0m",
      "\u001b[0;31mTypeError\u001b[0m                                 Traceback (most recent call last)",
      "Cell \u001b[0;32mIn[57], line 1\u001b[0m\n\u001b[0;32m----> 1\u001b[0m \u001b[43ma\u001b[49m\u001b[43m(\u001b[49m\u001b[38;5;241;43m0\u001b[39;49m\u001b[43m)\u001b[49m\u001b[38;5;241m+\u001b[39m\u001b[38;5;124m\"\u001b[39m\u001b[38;5;124mython\u001b[39m\u001b[38;5;124m\"\u001b[39m\n",
      "\u001b[0;31mTypeError\u001b[0m: 'str' object is not callable"
     ]
    }
   ],
   "source": [
    "a(0)+\"ython\""
   ]
  },
  {
   "cell_type": "code",
   "execution_count": 58,
   "id": "b98fbcd6",
   "metadata": {},
   "outputs": [
    {
     "data": {
      "text/plain": [
       "'pyhon'"
      ]
     },
     "execution_count": 58,
     "metadata": {},
     "output_type": "execute_result"
    }
   ],
   "source": [
    "\"py\"+a[3:]"
   ]
  },
  {
   "cell_type": "code",
   "execution_count": 59,
   "id": "9ada14bb",
   "metadata": {},
   "outputs": [
    {
     "data": {
      "text/plain": [
       "'python'"
      ]
     },
     "execution_count": 59,
     "metadata": {},
     "output_type": "execute_result"
    }
   ],
   "source": [
    "\"py\"+a[2:]"
   ]
  },
  {
   "cell_type": "code",
   "execution_count": 60,
   "id": "8b3b72e6",
   "metadata": {},
   "outputs": [
    {
     "data": {
      "text/plain": [
       "'python'"
      ]
     },
     "execution_count": 60,
     "metadata": {},
     "output_type": "execute_result"
    }
   ],
   "source": [
    "a[0]+'y'+a[2:]"
   ]
  },
  {
   "cell_type": "code",
   "execution_count": 61,
   "id": "f80de155",
   "metadata": {},
   "outputs": [
    {
     "name": "stdout",
     "output_type": "stream",
     "text": [
      "I love dog \n"
     ]
    }
   ],
   "source": [
    "print('I love %s ' % 'dog')"
   ]
  },
  {
   "cell_type": "code",
   "execution_count": 62,
   "id": "9ac60aea",
   "metadata": {},
   "outputs": [
    {
     "name": "stdout",
     "output_type": "stream",
     "text": [
      "I ate 3 apples\n"
     ]
    }
   ],
   "source": [
    "print('I ate %d apples' %3)"
   ]
  },
  {
   "cell_type": "code",
   "execution_count": 69,
   "id": "4141da91",
   "metadata": {},
   "outputs": [
    {
     "name": "stdout",
     "output_type": "stream",
     "text": [
      "error rate is 0.300000 %\n"
     ]
    }
   ],
   "source": [
    "print('error rate is %f %%' %0.3)"
   ]
  },
  {
   "cell_type": "code",
   "execution_count": 70,
   "id": "ad6d3541",
   "metadata": {},
   "outputs": [
    {
     "name": "stdout",
     "output_type": "stream",
     "text": [
      "error rate is 0.3 %\n"
     ]
    }
   ],
   "source": [
    "print('error rate is %0.1f %%' %0.3)"
   ]
  },
  {
   "cell_type": "code",
   "execution_count": 71,
   "id": "f87b01b5",
   "metadata": {},
   "outputs": [
    {
     "name": "stdout",
     "output_type": "stream",
     "text": [
      "error rate is 0 %\n"
     ]
    }
   ],
   "source": [
    "print('error rate is %d %%' %0.3)"
   ]
  },
  {
   "cell_type": "code",
   "execution_count": 72,
   "id": "066dd8bb",
   "metadata": {},
   "outputs": [
    {
     "name": "stdout",
     "output_type": "stream",
     "text": [
      "5 apples\n"
     ]
    }
   ],
   "source": [
    "print('%d apples' %5)"
   ]
  },
  {
   "cell_type": "code",
   "execution_count": 75,
   "id": "b6e3b8c0",
   "metadata": {},
   "outputs": [
    {
     "name": "stdout",
     "output_type": "stream",
     "text": [
      "I ate 3 apples. It was delicious.\n"
     ]
    }
   ],
   "source": [
    "print('I ate {0} apples. It was {1}.'.format(3, 'delicious'))"
   ]
  },
  {
   "cell_type": "code",
   "execution_count": 76,
   "id": "a8f4d749",
   "metadata": {},
   "outputs": [
    {
     "name": "stdout",
     "output_type": "stream",
     "text": [
      "I ate 3 apples. It was delicious.\n"
     ]
    }
   ],
   "source": [
    "howmuch = 3\n",
    "taste = 'delicious'\n",
    "print('I ate {0} apples. It was {1}.'.format(howmuch, taste))"
   ]
  },
  {
   "cell_type": "code",
   "execution_count": 77,
   "id": "9d334c43",
   "metadata": {},
   "outputs": [
    {
     "name": "stdout",
     "output_type": "stream",
     "text": [
      "I ate 2 apples and 3 oranges.\n"
     ]
    }
   ],
   "source": [
    "apples = 2\n",
    "oranges = 3\n",
    "print('I ate {0} apples and {1} oranges.'.format(apples, oranges))"
   ]
  },
  {
   "cell_type": "code",
   "execution_count": 78,
   "id": "b342895b",
   "metadata": {},
   "outputs": [],
   "source": [
    "a = 'hobby'"
   ]
  },
  {
   "cell_type": "code",
   "execution_count": 81,
   "id": "9f9d159a",
   "metadata": {},
   "outputs": [
    {
     "data": {
      "text/plain": [
       "2"
      ]
     },
     "execution_count": 81,
     "metadata": {},
     "output_type": "execute_result"
    }
   ],
   "source": [
    "a.count('b')"
   ]
  },
  {
   "cell_type": "code",
   "execution_count": 82,
   "id": "ad4a132a",
   "metadata": {},
   "outputs": [
    {
     "data": {
      "text/plain": [
       "'life is too short. You need python'"
      ]
     },
     "execution_count": 82,
     "metadata": {},
     "output_type": "execute_result"
    }
   ],
   "source": [
    "python"
   ]
  },
  {
   "cell_type": "code",
   "execution_count": 85,
   "id": "33b79a65",
   "metadata": {},
   "outputs": [
    {
     "data": {
      "text/plain": [
       "-1"
      ]
     },
     "execution_count": 85,
     "metadata": {},
     "output_type": "execute_result"
    }
   ],
   "source": [
    "python.find('k')"
   ]
  },
  {
   "cell_type": "code",
   "execution_count": 87,
   "id": "5c100aef",
   "metadata": {},
   "outputs": [
    {
     "data": {
      "text/plain": [
       "9"
      ]
     },
     "execution_count": 87,
     "metadata": {},
     "output_type": "execute_result"
    }
   ],
   "source": [
    "python.index('o')"
   ]
  },
  {
   "cell_type": "code",
   "execution_count": 88,
   "id": "a7f42972",
   "metadata": {},
   "outputs": [
    {
     "data": {
      "text/plain": [
       "'a.b.c.d'"
      ]
     },
     "execution_count": 88,
     "metadata": {},
     "output_type": "execute_result"
    }
   ],
   "source": [
    "\".\".join(\"abcd\")"
   ]
  },
  {
   "cell_type": "code",
   "execution_count": 92,
   "id": "3cbab252",
   "metadata": {},
   "outputs": [
    {
     "data": {
      "text/plain": [
       "'a,b,cd, ande'"
      ]
     },
     "execution_count": 92,
     "metadata": {},
     "output_type": "execute_result"
    }
   ],
   "source": [
    "\",\".join(\"abc\") + \", and\".join(\"de\")"
   ]
  },
  {
   "cell_type": "code",
   "execution_count": 93,
   "id": "991a1404",
   "metadata": {},
   "outputs": [
    {
     "data": {
      "text/plain": [
       "'HI'"
      ]
     },
     "execution_count": 93,
     "metadata": {},
     "output_type": "execute_result"
    }
   ],
   "source": [
    "a = \"hi\"\n",
    "a.upper()"
   ]
  },
  {
   "cell_type": "code",
   "execution_count": 94,
   "id": "d297f77b",
   "metadata": {},
   "outputs": [
    {
     "data": {
      "text/plain": [
       "'hi'"
      ]
     },
     "execution_count": 94,
     "metadata": {},
     "output_type": "execute_result"
    }
   ],
   "source": [
    "b = \"HI\"\n",
    "a.lower()"
   ]
  },
  {
   "cell_type": "code",
   "execution_count": 95,
   "id": "d3ce4c56",
   "metadata": {},
   "outputs": [
    {
     "data": {
      "text/plain": [
       "'hi'"
      ]
     },
     "execution_count": 95,
     "metadata": {},
     "output_type": "execute_result"
    }
   ],
   "source": [
    "a = \"Hi\"\n",
    "a.lower()"
   ]
  },
  {
   "cell_type": "code",
   "execution_count": 97,
   "id": "252a8fcc",
   "metadata": {},
   "outputs": [
    {
     "data": {
      "text/plain": [
       "'Python'"
      ]
     },
     "execution_count": 97,
     "metadata": {},
     "output_type": "execute_result"
    }
   ],
   "source": [
    "\"Pithon\".replace(\"i\",\"y\")"
   ]
  },
  {
   "cell_type": "code",
   "execution_count": null,
   "id": "1a62df1d",
   "metadata": {},
   "outputs": [],
   "source": []
  }
 ],
 "metadata": {
  "kernelspec": {
   "display_name": "Python 3 (ipykernel)",
   "language": "python",
   "name": "python3"
  },
  "language_info": {
   "codemirror_mode": {
    "name": "ipython",
    "version": 3
   },
   "file_extension": ".py",
   "mimetype": "text/x-python",
   "name": "python",
   "nbconvert_exporter": "python",
   "pygments_lexer": "ipython3",
   "version": "3.11.2"
  }
 },
 "nbformat": 4,
 "nbformat_minor": 5
}
