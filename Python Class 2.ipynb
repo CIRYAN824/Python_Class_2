{
 "cells": [
  {
   "cell_type": "code",
   "execution_count": 1,
   "id": "3ddf735e",
   "metadata": {},
   "outputs": [
    {
     "data": {
      "text/plain": [
       "'apple banana'"
      ]
     },
     "execution_count": 1,
     "metadata": {},
     "output_type": "execute_result"
    }
   ],
   "source": [
    "a = 'apple'\n",
    "b = 'banana'\n",
    "\n",
    "a+' '+b"
   ]
  },
  {
   "cell_type": "code",
   "execution_count": 2,
   "id": "54e6038c",
   "metadata": {},
   "outputs": [
    {
     "data": {
      "text/plain": [
       "'applebanana'"
      ]
     },
     "execution_count": 2,
     "metadata": {},
     "output_type": "execute_result"
    }
   ],
   "source": [
    "a+b"
   ]
  },
  {
   "cell_type": "code",
   "execution_count": 3,
   "id": "b07bb3b1",
   "metadata": {},
   "outputs": [
    {
     "name": "stdout",
     "output_type": "stream",
     "text": [
      "3\n"
     ]
    }
   ],
   "source": [
    "I_Like_Python = 3\n",
    "\n",
    "print(I_Like_Python)"
   ]
  },
  {
   "cell_type": "code",
   "execution_count": 4,
   "id": "e178da9e",
   "metadata": {},
   "outputs": [],
   "source": [
    "a = \"I love dog\""
   ]
  },
  {
   "cell_type": "code",
   "execution_count": 5,
   "id": "5f52fe23",
   "metadata": {},
   "outputs": [
    {
     "data": {
      "text/plain": [
       "'love'"
      ]
     },
     "execution_count": 5,
     "metadata": {},
     "output_type": "execute_result"
    }
   ],
   "source": [
    "a[2:-4]"
   ]
  },
  {
   "cell_type": "code",
   "execution_count": 6,
   "id": "3c23d645",
   "metadata": {},
   "outputs": [
    {
     "data": {
      "text/plain": [
       "'love'"
      ]
     },
     "execution_count": 6,
     "metadata": {},
     "output_type": "execute_result"
    }
   ],
   "source": [
    "a[2:6]"
   ]
  },
  {
   "cell_type": "code",
   "execution_count": 7,
   "id": "f9abd178",
   "metadata": {},
   "outputs": [
    {
     "data": {
      "text/plain": [
       "'d'"
      ]
     },
     "execution_count": 7,
     "metadata": {},
     "output_type": "execute_result"
    }
   ],
   "source": [
    "a[-3]"
   ]
  },
  {
   "cell_type": "code",
   "execution_count": 9,
   "id": "a74ccd48",
   "metadata": {},
   "outputs": [
    {
     "name": "stdout",
     "output_type": "stream",
     "text": [
      "I\n",
      " \n",
      "l\n",
      "o\n",
      "v\n",
      "e\n",
      " \n",
      "d\n",
      "o\n",
      "g\n"
     ]
    }
   ],
   "source": [
    "for i in a:\n",
    "    print(i)"
   ]
  },
  {
   "cell_type": "code",
   "execution_count": 12,
   "id": "f36ff45a",
   "metadata": {},
   "outputs": [],
   "source": [
    "a ='''\n",
    "Life is short.\n",
    "You need python\n",
    "'''"
   ]
  },
  {
   "cell_type": "code",
   "execution_count": 13,
   "id": "2f2e12d2",
   "metadata": {},
   "outputs": [
    {
     "name": "stdout",
     "output_type": "stream",
     "text": [
      "\n",
      "Life is short.\n",
      "You need python\n",
      "\n"
     ]
    }
   ],
   "source": [
    "print(a)"
   ]
  },
  {
   "cell_type": "code",
   "execution_count": 18,
   "id": "cf6d4621",
   "metadata": {},
   "outputs": [
    {
     "data": {
      "text/plain": [
       "\"I say 'blah'\""
      ]
     },
     "execution_count": 18,
     "metadata": {},
     "output_type": "execute_result"
    }
   ],
   "source": [
    "\"I say 'blah'\""
   ]
  },
  {
   "cell_type": "code",
   "execution_count": 19,
   "id": "93f9a1f3",
   "metadata": {},
   "outputs": [],
   "source": [
    "a = 89"
   ]
  },
  {
   "cell_type": "code",
   "execution_count": 23,
   "id": "d0c96ed9",
   "metadata": {},
   "outputs": [
    {
     "name": "stdout",
     "output_type": "stream",
     "text": [
      "temperature is : 89\n"
     ]
    }
   ],
   "source": [
    "print('temperature is :',a)"
   ]
  },
  {
   "cell_type": "code",
   "execution_count": 24,
   "id": "f883af48",
   "metadata": {},
   "outputs": [
    {
     "name": "stdout",
     "output_type": "stream",
     "text": [
      "temperature is 89\n"
     ]
    }
   ],
   "source": [
    "print('temperature is %d'%a)"
   ]
  },
  {
   "cell_type": "code",
   "execution_count": null,
   "id": "a4aee873",
   "metadata": {},
   "outputs": [],
   "source": []
  }
 ],
 "metadata": {
  "kernelspec": {
   "display_name": "Python 3 (ipykernel)",
   "language": "python",
   "name": "python3"
  },
  "language_info": {
   "codemirror_mode": {
    "name": "ipython",
    "version": 3
   },
   "file_extension": ".py",
   "mimetype": "text/x-python",
   "name": "python",
   "nbconvert_exporter": "python",
   "pygments_lexer": "ipython3",
   "version": "3.11.2"
  }
 },
 "nbformat": 4,
 "nbformat_minor": 5
}
